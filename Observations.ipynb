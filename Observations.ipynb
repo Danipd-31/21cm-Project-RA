{
 "cells": [
  {
   "cell_type": "code",
   "execution_count": 2,
   "metadata": {},
   "outputs": [
    {
     "name": "stdout",
     "output_type": "stream",
     "text": [
      "Using matplotlib backend: MacOSX\n",
      "Populating the interactive namespace from numpy and matplotlib\n"
     ]
    }
   ],
   "source": [
    "%pylab\n",
    "%matplotlib inline\n",
    "import healpy as hp\n",
    "import time\n",
    "from astropy import units as u\n",
    "from astropy.coordinates import SkyCoord\n",
    "from astropy.coordinates import EarthLocation\n",
    "from astropy.time import Time\n",
    "from astropy.coordinates import AltAz\n",
    "from astropy.time import TimeDelta\n",
    "from astropy.coordinates import get_sun\n",
    "from functools import reduce"
   ]
  },
  {
   "cell_type": "code",
   "execution_count": 45,
   "metadata": {},
   "outputs": [],
   "source": [
    "def GalCoor_Cenit(Earthloc,times):\n",
    "    '''Takes the Antenna location and the times for observations.\n",
    "       Returns galactic coordinates for the cenit'''\n",
    "    \n",
    "    galcoords=array([])\n",
    "    \n",
    "    for i in range (len(times)):\n",
    "        \n",
    "        altaz = SkyCoord(alt=90*u.deg, az =0*u.rad, obstime=times[i], frame='altaz', location=Earthloc) #Cenit AltAz\n",
    "        \n",
    "        galcoords=append(galcoords,altaz.galactic) #Transform to galactic and save\n",
    "    \n",
    "    return galcoords"
   ]
  },
  {
   "cell_type": "code",
   "execution_count": 48,
   "metadata": {},
   "outputs": [
    {
     "name": "stdout",
     "output_type": "stream",
     "text": [
      "0\n"
     ]
    },
    {
     "name": "stderr",
     "output_type": "stream",
     "text": [
      "WARNING: failed to download http://maia.usno.navy.mil/ser7/finals2000A.all and http://toshi.nofs.navy.mil/ser7/finals2000A.all, using local IERS-B: <urlopen error timed out>;<urlopen error [Errno 8] nodename nor servname provided, or not known. requested URL: http://toshi.nofs.navy.mil/ser7/finals2000A.all> [astropy.utils.iers.iers]\n",
      "WARNING: Tried to get polar motions for times after IERS data is valid. Defaulting to polar motion from the 50-yr mean for those. This may affect precision at the 10s of arcsec level [astropy.coordinates.builtin_frames.utils]\n",
      "WARNING: (some) times are outside of range covered by IERS table. Assuming UT1-UTC=0 for coordinate transformations. [astropy.coordinates.builtin_frames.utils]\n"
     ]
    },
    {
     "name": "stdout",
     "output_type": "stream",
     "text": [
      "1\n",
      "2\n"
     ]
    }
   ],
   "source": [
    "#EXAMPLE\n",
    "\n",
    "p=EarthLocation.of_site('ALMA')\n",
    "t0=Time('2021-06-14T00:00:00',format='isot')\n",
    "ts=t0+TimeDelta(60*60, format='sec')*linspace(0,3,3) #dt=1h\n",
    "\n",
    "g=GalCoor_Cenit(p,ts)"
   ]
  },
  {
   "cell_type": "code",
   "execution_count": 53,
   "metadata": {},
   "outputs": [
    {
     "data": {
      "text/plain": [
       "(<SkyCoord (Galactic): (l, b) in deg\n",
       "     (304.86729769, 39.93490077)>,\n",
       " <Longitude 304.86729769 deg>,\n",
       " <Latitude 39.93490077 deg>)"
      ]
     },
     "execution_count": 53,
     "metadata": {},
     "output_type": "execute_result"
    }
   ],
   "source": [
    "g[0],g[0].l,g[0].b"
   ]
  },
  {
   "cell_type": "code",
   "execution_count": 41,
   "metadata": {},
   "outputs": [
    {
     "data": {
      "text/latex": [
       "$304^\\circ52{}^\\prime02.2717{}^{\\prime\\prime}$"
      ],
      "text/plain": [
       "<Longitude 304.86729769 deg>"
      ]
     },
     "execution_count": 41,
     "metadata": {},
     "output_type": "execute_result"
    }
   ],
   "source": []
  },
  {
   "cell_type": "code",
   "execution_count": null,
   "metadata": {},
   "outputs": [],
   "source": []
  }
 ],
 "metadata": {
  "kernelspec": {
   "display_name": "Python 3",
   "language": "python",
   "name": "python3"
  },
  "language_info": {
   "codemirror_mode": {
    "name": "ipython",
    "version": 3
   },
   "file_extension": ".py",
   "mimetype": "text/x-python",
   "name": "python",
   "nbconvert_exporter": "python",
   "pygments_lexer": "ipython3",
   "version": "3.6.5"
  }
 },
 "nbformat": 4,
 "nbformat_minor": 2
}
