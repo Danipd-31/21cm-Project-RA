{
 "cells": [
  {
   "cell_type": "code",
   "execution_count": 3,
   "metadata": {},
   "outputs": [
    {
     "name": "stdout",
     "output_type": "stream",
     "text": [
      "Using matplotlib backend: MacOSX\n",
      "Populating the interactive namespace from numpy and matplotlib\n"
     ]
    }
   ],
   "source": [
    "%pylab\n",
    "%matplotlib inline\n",
    "import healpy as hp\n",
    "import time\n",
    "from astropy import units as u\n",
    "from astropy.coordinates import SkyCoord\n",
    "from astropy.coordinates import EarthLocation\n",
    "from astropy.time import Time\n",
    "from astropy.coordinates import AltAz\n",
    "from astropy.time import TimeDelta\n",
    "from astropy.coordinates import get_sun\n",
    "from functools import reduce\n",
    "import pandas as pd"
   ]
  },
  {
   "cell_type": "markdown",
   "metadata": {},
   "source": [
    "### Frequency extrapolation"
   ]
  },
  {
   "cell_type": "code",
   "execution_count": 4,
   "metadata": {},
   "outputs": [],
   "source": [
    "path_SA='/Users/michellemora/Documents/Universidad/10/Seminario/Resultados_SinAlas/'\n",
    "path_CA='/Users/michellemora/Documents/Universidad/10/Seminario/Resultados_ConAlas/'\n",
    "path_I='/Users/michellemora/Documents/Universidad/10/Seminario/Resultados_Inicial/'\n",
    "path_E='/Users/michellemora/Documents/Universidad/10/Seminario/Gain_EDGES/'"
   ]
  },
  {
   "cell_type": "code",
   "execution_count": 5,
   "metadata": {},
   "outputs": [
    {
     "name": "stdout",
     "output_type": "stream",
     "text": [
      "NSIDE = 512\n",
      "ORDERING = NESTED in fits file\n",
      "INDXSCHM = IMPLICIT\n"
     ]
    },
    {
     "name": "stderr",
     "output_type": "stream",
     "text": [
      "/Users/michellemora/anaconda3/lib/python3.6/site-packages/healpy/fitsfunc.py:371: UserWarning: No INDXSCHM keyword in header file : assume IMPLICIT\n",
      "  warnings.warn(\"No INDXSCHM keyword in header file : \" \"assume {}\".format(schm))\n"
     ]
    },
    {
     "name": "stdout",
     "output_type": "stream",
     "text": [
      "Ordering converted to RING\n"
     ]
    }
   ],
   "source": [
    "T_Hmap = hp.read_map(\"lambda_haslam408_dsds.fits\")  "
   ]
  },
  {
   "cell_type": "markdown",
   "metadata": {},
   "source": [
    "Temperature spectral index\n",
    "    \n",
    "$$\\alpha=-\\frac{log(T_1/T_2)}{log(\\nu_1/\\nu_2)}$$"
   ]
  },
  {
   "cell_type": "code",
   "execution_count": 6,
   "metadata": {},
   "outputs": [],
   "source": [
    "def T_freq(alpha,freq1,freq2,T1):\n",
    "    return T1*10**(alpha*log10(freq1/freq2))"
   ]
  },
  {
   "cell_type": "markdown",
   "metadata": {},
   "source": [
    "### Galactic longitude (l) and latitude (b)"
   ]
  },
  {
   "cell_type": "code",
   "execution_count": 7,
   "metadata": {},
   "outputs": [],
   "source": [
    "nside = hp.get_nside(T_Hmap)  #nside\n",
    "npix = hp.nside2npix(nside)   #number of pixels\n",
    "\n",
    "l, b = hp.pix2ang(nside, arange(npix), lonlat=True)   #(l, b) coordinates for each pixel\n",
    "g_coord=SkyCoord(l*u.deg, b*u.deg, frame='galactic')  "
   ]
  },
  {
   "cell_type": "markdown",
   "metadata": {},
   "source": [
    "### Time and location for horizontal coordinates "
   ]
  },
  {
   "cell_type": "code",
   "execution_count": 8,
   "metadata": {},
   "outputs": [],
   "source": [
    "Alma_loc = EarthLocation.of_site('ALMA')\n",
    "start_t=Time('2021-06-14T00:00:00',format='isot')\n",
    "\n",
    "times6=start_t + TimeDelta(6*60, format='sec')*linspace(0,240,240) #dt=6 min\n",
    "\n",
    "altaz6 = AltAz(location=Alma_loc, obstime=times6)"
   ]
  },
  {
   "cell_type": "markdown",
   "metadata": {},
   "source": [
    "### Dynamic Spectra\n",
    "\n",
    "Temperature matrix for the dynamic spectra\n",
    "\n",
    "$$T(\\nu,t)=\\begin{pmatrix}\n",
    "T(\\nu_1,t_m) & T(\\nu_2,t_m) & \\cdots & T(\\nu_n,t_m)\\\\ \n",
    " \\vdots &  \\vdots  &\\vdots & \\vdots  \\\\ \n",
    "T(\\nu_1,t_1) & T(\\nu_2,t_1) & \\cdots & T(\\nu_n,t_1)\n",
    "\\end{pmatrix}$$"
   ]
  },
  {
   "cell_type": "markdown",
   "metadata": {},
   "source": [
    "### Antenna gain files\n",
    "\n",
    "$$g_{\\nu}=g_{\\nu}(\\theta,\\phi)$$\n",
    "\n",
    "$$g_{\\nu}(\\theta,\\phi)=\\begin{pmatrix}\n",
    "g_{\\nu}(\\theta=0,\\phi=0) & g_{\\nu}(\\theta=0,\\phi=1) & \\cdots & g_{\\nu}(\\theta=0,\\phi=359)\\\\ \n",
    "g_{\\nu}(\\theta=1,\\phi=0) & g_{\\nu}(\\theta=1,\\phi=1) & \\cdots & g_{\\nu}(\\theta=1,\\phi=359)\\\\\n",
    " \\vdots &  \\vdots  &\\vdots & \\vdots  \\\\ \n",
    "g_{\\nu}(\\theta=90,\\phi=0) & g_{\\nu}(\\theta=90,\\phi=1) & \\cdots & g_{\\nu}(\\theta=90,\\phi=359)\\\\\n",
    "\\end{pmatrix}$$"
   ]
  },
  {
   "cell_type": "code",
   "execution_count": 9,
   "metadata": {},
   "outputs": [],
   "source": [
    "f=arange(40,201,1)\n",
    "cols=arange(1,361,1)"
   ]
  },
  {
   "cell_type": "markdown",
   "metadata": {},
   "source": [
    "### $G[\\nu,\\theta,\\phi]$ Matrix"
   ]
  },
  {
   "cell_type": "code",
   "execution_count": 17,
   "metadata": {
    "scrolled": true
   },
   "outputs": [
    {
     "ename": "OSError",
     "evalue": "/Users/michellemora/Documents/Universidad/10/Seminario/Gain_EDGES/Gain_phi_theta_121MHz.csv not found.",
     "output_type": "error",
     "traceback": [
      "\u001b[0;31m---------------------------------------------------------------------------\u001b[0m",
      "\u001b[0;31mOSError\u001b[0m                                   Traceback (most recent call last)",
      "\u001b[0;32m<ipython-input-17-3b082fdab594>\u001b[0m in \u001b[0;36m<module>\u001b[0;34m()\u001b[0m\n\u001b[1;32m      3\u001b[0m \u001b[0;32mfor\u001b[0m \u001b[0mi\u001b[0m \u001b[0;32min\u001b[0m \u001b[0mrange\u001b[0m \u001b[0;34m(\u001b[0m\u001b[0;36m0\u001b[0m\u001b[0;34m,\u001b[0m\u001b[0mlen\u001b[0m\u001b[0;34m(\u001b[0m\u001b[0mf\u001b[0m\u001b[0;34m)\u001b[0m\u001b[0;34m)\u001b[0m\u001b[0;34m:\u001b[0m\u001b[0;34m\u001b[0m\u001b[0m\n\u001b[1;32m      4\u001b[0m     \u001b[0mfile\u001b[0m\u001b[0;34m=\u001b[0m\u001b[0;34m'{}{}{}{}'\u001b[0m\u001b[0;34m.\u001b[0m\u001b[0mformat\u001b[0m\u001b[0;34m(\u001b[0m\u001b[0mpath_E\u001b[0m\u001b[0;34m,\u001b[0m\u001b[0;34m'Gain_phi_theta_'\u001b[0m\u001b[0;34m,\u001b[0m \u001b[0mf\u001b[0m\u001b[0;34m[\u001b[0m\u001b[0mi\u001b[0m\u001b[0;34m]\u001b[0m\u001b[0;34m,\u001b[0m \u001b[0;34m\"MHz.csv\"\u001b[0m\u001b[0;34m)\u001b[0m\u001b[0;34m\u001b[0m\u001b[0m\n\u001b[0;32m----> 5\u001b[0;31m     \u001b[0mx\u001b[0m\u001b[0;34m=\u001b[0m\u001b[0mloadtxt\u001b[0m\u001b[0;34m(\u001b[0m\u001b[0mfile\u001b[0m\u001b[0;34m,\u001b[0m \u001b[0mskiprows\u001b[0m\u001b[0;34m=\u001b[0m\u001b[0;36m1\u001b[0m\u001b[0;34m,\u001b[0m\u001b[0mdelimiter\u001b[0m\u001b[0;34m=\u001b[0m\u001b[0;34m','\u001b[0m\u001b[0;34m)\u001b[0m   \u001b[0;31m#Theta[0:]\u001b[0m\u001b[0;34m\u001b[0m\u001b[0m\n\u001b[0m\u001b[1;32m      6\u001b[0m     \u001b[0;31m#new=concatenate((x[:91,181:],x[:91,2:181]),axis=1)       ###Theta[0,90],phi[0,359]\u001b[0m\u001b[0;34m\u001b[0m\u001b[0;34m\u001b[0m\u001b[0m\n\u001b[1;32m      7\u001b[0m     \u001b[0msavetxt\u001b[0m\u001b[0;34m(\u001b[0m\u001b[0;34m'{}{}{}.txt'\u001b[0m\u001b[0;34m.\u001b[0m\u001b[0mformat\u001b[0m\u001b[0;34m(\u001b[0m\u001b[0mpath_E\u001b[0m\u001b[0;34m,\u001b[0m\u001b[0;34m'Gain_E_'\u001b[0m\u001b[0;34m,\u001b[0m\u001b[0mf\u001b[0m\u001b[0;34m[\u001b[0m\u001b[0mi\u001b[0m\u001b[0;34m]\u001b[0m\u001b[0;34m)\u001b[0m\u001b[0;34m,\u001b[0m \u001b[0mx\u001b[0m\u001b[0;34m[\u001b[0m\u001b[0;34m:\u001b[0m\u001b[0;34m,\u001b[0m\u001b[0;36m1\u001b[0m\u001b[0;34m:\u001b[0m\u001b[0;36m361\u001b[0m\u001b[0;34m]\u001b[0m\u001b[0;34m)\u001b[0m\u001b[0;34m\u001b[0m\u001b[0m\n",
      "\u001b[0;32m~/anaconda3/lib/python3.6/site-packages/numpy/lib/npyio.py\u001b[0m in \u001b[0;36mloadtxt\u001b[0;34m(fname, dtype, comments, delimiter, converters, skiprows, usecols, unpack, ndmin, encoding, max_rows)\u001b[0m\n\u001b[1;32m    966\u001b[0m             \u001b[0mfname\u001b[0m \u001b[0;34m=\u001b[0m \u001b[0mos_fspath\u001b[0m\u001b[0;34m(\u001b[0m\u001b[0mfname\u001b[0m\u001b[0;34m)\u001b[0m\u001b[0;34m\u001b[0m\u001b[0m\n\u001b[1;32m    967\u001b[0m         \u001b[0;32mif\u001b[0m \u001b[0m_is_string_like\u001b[0m\u001b[0;34m(\u001b[0m\u001b[0mfname\u001b[0m\u001b[0;34m)\u001b[0m\u001b[0;34m:\u001b[0m\u001b[0;34m\u001b[0m\u001b[0m\n\u001b[0;32m--> 968\u001b[0;31m             \u001b[0mfh\u001b[0m \u001b[0;34m=\u001b[0m \u001b[0mnp\u001b[0m\u001b[0;34m.\u001b[0m\u001b[0mlib\u001b[0m\u001b[0;34m.\u001b[0m\u001b[0m_datasource\u001b[0m\u001b[0;34m.\u001b[0m\u001b[0mopen\u001b[0m\u001b[0;34m(\u001b[0m\u001b[0mfname\u001b[0m\u001b[0;34m,\u001b[0m \u001b[0;34m'rt'\u001b[0m\u001b[0;34m,\u001b[0m \u001b[0mencoding\u001b[0m\u001b[0;34m=\u001b[0m\u001b[0mencoding\u001b[0m\u001b[0;34m)\u001b[0m\u001b[0;34m\u001b[0m\u001b[0m\n\u001b[0m\u001b[1;32m    969\u001b[0m             \u001b[0mfencoding\u001b[0m \u001b[0;34m=\u001b[0m \u001b[0mgetattr\u001b[0m\u001b[0;34m(\u001b[0m\u001b[0mfh\u001b[0m\u001b[0;34m,\u001b[0m \u001b[0;34m'encoding'\u001b[0m\u001b[0;34m,\u001b[0m \u001b[0;34m'latin1'\u001b[0m\u001b[0;34m)\u001b[0m\u001b[0;34m\u001b[0m\u001b[0m\n\u001b[1;32m    970\u001b[0m             \u001b[0mfh\u001b[0m \u001b[0;34m=\u001b[0m \u001b[0miter\u001b[0m\u001b[0;34m(\u001b[0m\u001b[0mfh\u001b[0m\u001b[0;34m)\u001b[0m\u001b[0;34m\u001b[0m\u001b[0m\n",
      "\u001b[0;32m~/anaconda3/lib/python3.6/site-packages/numpy/lib/_datasource.py\u001b[0m in \u001b[0;36mopen\u001b[0;34m(path, mode, destpath, encoding, newline)\u001b[0m\n\u001b[1;32m    267\u001b[0m \u001b[0;34m\u001b[0m\u001b[0m\n\u001b[1;32m    268\u001b[0m     \u001b[0mds\u001b[0m \u001b[0;34m=\u001b[0m \u001b[0mDataSource\u001b[0m\u001b[0;34m(\u001b[0m\u001b[0mdestpath\u001b[0m\u001b[0;34m)\u001b[0m\u001b[0;34m\u001b[0m\u001b[0m\n\u001b[0;32m--> 269\u001b[0;31m     \u001b[0;32mreturn\u001b[0m \u001b[0mds\u001b[0m\u001b[0;34m.\u001b[0m\u001b[0mopen\u001b[0m\u001b[0;34m(\u001b[0m\u001b[0mpath\u001b[0m\u001b[0;34m,\u001b[0m \u001b[0mmode\u001b[0m\u001b[0;34m,\u001b[0m \u001b[0mencoding\u001b[0m\u001b[0;34m=\u001b[0m\u001b[0mencoding\u001b[0m\u001b[0;34m,\u001b[0m \u001b[0mnewline\u001b[0m\u001b[0;34m=\u001b[0m\u001b[0mnewline\u001b[0m\u001b[0;34m)\u001b[0m\u001b[0;34m\u001b[0m\u001b[0m\n\u001b[0m\u001b[1;32m    270\u001b[0m \u001b[0;34m\u001b[0m\u001b[0m\n\u001b[1;32m    271\u001b[0m \u001b[0;34m\u001b[0m\u001b[0m\n",
      "\u001b[0;32m~/anaconda3/lib/python3.6/site-packages/numpy/lib/_datasource.py\u001b[0m in \u001b[0;36mopen\u001b[0;34m(self, path, mode, encoding, newline)\u001b[0m\n\u001b[1;32m    621\u001b[0m                                       encoding=encoding, newline=newline)\n\u001b[1;32m    622\u001b[0m         \u001b[0;32melse\u001b[0m\u001b[0;34m:\u001b[0m\u001b[0;34m\u001b[0m\u001b[0m\n\u001b[0;32m--> 623\u001b[0;31m             \u001b[0;32mraise\u001b[0m \u001b[0mIOError\u001b[0m\u001b[0;34m(\u001b[0m\u001b[0;34m\"%s not found.\"\u001b[0m \u001b[0;34m%\u001b[0m \u001b[0mpath\u001b[0m\u001b[0;34m)\u001b[0m\u001b[0;34m\u001b[0m\u001b[0m\n\u001b[0m\u001b[1;32m    624\u001b[0m \u001b[0;34m\u001b[0m\u001b[0m\n\u001b[1;32m    625\u001b[0m \u001b[0;34m\u001b[0m\u001b[0m\n",
      "\u001b[0;31mOSError\u001b[0m: /Users/michellemora/Documents/Universidad/10/Seminario/Gain_EDGES/Gain_phi_theta_121MHz.csv not found."
     ]
    }
   ],
   "source": [
    "#Sort files in right order\n",
    "\n",
    "#for i in range (0,len(f)):\n",
    "#    file='{}{}{}{}'.format(path_E,'Gain_phi_theta_', f[i], \"MHz.csv\")\n",
    "#    x=loadtxt(file, skiprows=1,delimiter=',')   #Theta[0:]\n",
    "#    #new=concatenate((x[:91,181:],x[:91,2:181]),axis=1)       ###Theta[0,90],phi[0,359]\n",
    "#    savetxt('{}{}{}.txt'.format(path_E,'Gain_E_',f[i]), x[:,1:361])"
   ]
  },
  {
   "cell_type": "code",
   "execution_count": 22,
   "metadata": {},
   "outputs": [],
   "source": [
    "def G_matrix(path,name,size):\n",
    "\n",
    "    G_FTP=empty((size,91,360))\n",
    "\n",
    "    for i in range (size):\n",
    "        file='{}{}{}{}'.format(path,name, f[i], \".txt\")\n",
    "        x=loadtxt(file)\n",
    "        G_FTP[i]=x\n",
    "    \n",
    "    print(amax(G_FTP))\n",
    "    return G_FTP/amax(G_FTP)    #NORMALIZED to the maximum gain value"
   ]
  },
  {
   "cell_type": "code",
   "execution_count": 35,
   "metadata": {},
   "outputs": [
    {
     "name": "stdout",
     "output_type": "stream",
     "text": [
      "8.95563859524484\n"
     ]
    }
   ],
   "source": [
    "#Gn_I=G_matrix(path_I,'Gain_I_')\n",
    "#Gn_SA=G_matrix(path_SA,'Gain_SA_')\n",
    "#Gn_CA=G_matrix(path_CA,'Gain_CA_')\n",
    "Gn_E=G_matrix(path_E,'Gain_E_',81)"
   ]
  },
  {
   "cell_type": "code",
   "execution_count": 11,
   "metadata": {},
   "outputs": [],
   "source": [
    "#G_n[0]       #First matrix (initial frequency)\n",
    "#amax(G_n)    #Max value from all matrixes\n",
    "#G_FTP[0,1,0] #Matrix 0 (first frecuency), theta=0, phi=1"
   ]
  },
  {
   "cell_type": "code",
   "execution_count": 12,
   "metadata": {},
   "outputs": [
    {
     "data": {
      "text/plain": [
       "array([2.03998864e-07, 9.29379759e-05, 3.80605994e-04])"
      ]
     },
     "execution_count": 12,
     "metadata": {},
     "output_type": "execute_result"
    }
   ],
   "source": [
    "#TEST\n",
    "th=[0,1,2]\n",
    "ph=[0,3,0]\n",
    "\n",
    "Gn_I[0,th,ph]"
   ]
  },
  {
   "cell_type": "code",
   "execution_count": null,
   "metadata": {},
   "outputs": [],
   "source": [
    "G"
   ]
  },
  {
   "cell_type": "code",
   "execution_count": null,
   "metadata": {},
   "outputs": [],
   "source": []
  },
  {
   "cell_type": "code",
   "execution_count": null,
   "metadata": {},
   "outputs": [],
   "source": []
  },
  {
   "cell_type": "code",
   "execution_count": null,
   "metadata": {},
   "outputs": [],
   "source": []
  },
  {
   "cell_type": "markdown",
   "metadata": {},
   "source": [
    "### Dynamic Spectra with gain pattern $G[\\nu,\\theta,\\phi]$"
   ]
  },
  {
   "cell_type": "code",
   "execution_count": 24,
   "metadata": {},
   "outputs": [],
   "source": [
    "def Temps_gain_final(fs,ts,alfa,G_n):  \n",
    "    '''Takes frequencies (fs), times in AltAz frame (ts) and returns the Temperature + Gain matrix'''\n",
    "    \n",
    "    start = time.time()\n",
    "    Temps_g=zeros((ts.obstime.size,len(fs))) \n",
    "    for i in range (ts.obstime.size):  \n",
    "    \n",
    "        aa_coord=g_coord.transform_to(ts[i])      #Galactic to Altaz\n",
    "        mask=argwhere(aa_coord.alt>0)             #Only coordinates above the horizon\n",
    "        T_sky=T_Hmap[mask]                        #Only those temperatures\n",
    "        \n",
    "        Th=np.round((90*u.deg-(aa_coord.alt[mask]))/(1*u.deg))    #Thetas to use in same order as Tsky\n",
    "        Th=Th.value.astype(int)                                   #Int value (dTheta=1deg)\n",
    "        \n",
    "        phi=aa_coord.az[mask]                                     ##phi's==azimuth\n",
    "        phi=phi.value.astype(int)                                 ##Int value (dphi=1deg)\n",
    "        \n",
    "        for j in range (len(fs)): \n",
    "            T_f=T_freq(alfa,408,fs[j],T_sky)                #Extrapolation\n",
    "            \n",
    "            gain=G_n[j,Th,phi]/mean(G_n[j,Th,phi])          ##Gains of Th and phi in same order as Tsky  \n",
    "            \n",
    "            T_f_g=gain*T_f                                  #New T_sky with respective gain\n",
    "            Temps_g[-i,j]=mean(T_f_g)                       #Mean temperature (bottom to top)\n",
    "        print (i)\n",
    "    end = time.time()\n",
    "    print('Tiempo(min):',(end - start)/60)    \n",
    "        \n",
    "      \n",
    "    return Temps_g"
   ]
  },
  {
   "cell_type": "code",
   "execution_count": 18,
   "metadata": {
    "scrolled": true
   },
   "outputs": [
    {
     "name": "stderr",
     "output_type": "stream",
     "text": [
      "WARNING: failed to download http://maia.usno.navy.mil/ser7/finals2000A.all and http://toshi.nofs.navy.mil/ser7/finals2000A.all, using local IERS-B: <urlopen error [Errno 8] nodename nor servname provided, or not known. requested URL: http://maia.usno.navy.mil/ser7/finals2000A.all>;<urlopen error [Errno 8] nodename nor servname provided, or not known. requested URL: http://toshi.nofs.navy.mil/ser7/finals2000A.all> [astropy.utils.iers.iers]\n",
      "WARNING: Tried to get polar motions for times after IERS data is valid. Defaulting to polar motion from the 50-yr mean for those. This may affect precision at the 10s of arcsec level [astropy.coordinates.builtin_frames.utils]\n",
      "WARNING: (some) times are outside of range covered by IERS table. Assuming UT1-UTC=0 for coordinate transformations. [astropy.coordinates.builtin_frames.utils]\n"
     ]
    },
    {
     "name": "stdout",
     "output_type": "stream",
     "text": [
      "Tiempo(min): 2.206472714742025\n",
      "Tiempo(min): 2.1938369313875836\n",
      "Tiempo(min): 2.1853072166442873\n",
      "Tiempo(min): 2.2030009468396505\n",
      "Tiempo(min): 2.2116056362787884\n",
      "Tiempo(min): 2.203554081916809\n",
      "Tiempo(min): 2.2112933953603107\n",
      "Tiempo(min): 2.214564895629883\n",
      "Tiempo(min): 2.2183361490567526\n",
      "Tiempo(min): 2.2128862619400023\n",
      "Tiempo(min): 2.2150540669759113\n",
      "Tiempo(min): 2.2099791049957274\n",
      "Tiempo(min): 0.22021433512369792\n",
      "Tiempo(min): 2.2123538335164388\n",
      "Tiempo(min): 2.2220632831255593\n",
      "Tiempo(min): 2.214769784609477\n",
      "Tiempo(min): 2.2153643131256104\n",
      "Tiempo(min): 2.214159353574117\n",
      "Tiempo(min): 2.2106991012891135\n",
      "Tiempo(min): 2.2135074496269227\n",
      "Tiempo(min): 2.2114174167315164\n",
      "Tiempo(min): 2.213379486401876\n",
      "Tiempo(min): 2.1998387853304546\n",
      "Tiempo(min): 2.1990105668703714\n",
      "Tiempo(min): 2.2144122838974\n",
      "Tiempo(min): 2.2170726021130878\n",
      "Tiempo(min): 1.857726550102234\n",
      "Tiempo(min): 0.21364365021387735\n",
      "Tiempo(min): 0.2180357336997986\n",
      "Tiempo(min): 0.23092537720998127\n",
      "Tiempo(min): 0.24079314867655435\n",
      "Tiempo(min): 0.24232995112737019\n",
      "Tiempo(min): 0.2626111547152201\n",
      "Tiempo(min): 0.25579864978790284\n",
      "Tiempo(min): 0.2620506207148234\n",
      "Tiempo(min): 0.2912095824877421\n",
      "Tiempo(min): 0.367985467116038\n",
      "Tiempo(min): 0.57527703444163\n",
      "Tiempo(min): 0.48553719917933147\n",
      "Tiempo(min): 0.43125551541646323\n",
      "Tiempo(min): 0.4611824631690979\n",
      "Tiempo(min): 0.39126876592636106\n",
      "Tiempo(min): 0.42311693032582604\n",
      "Tiempo(min): 0.4401894013086955\n",
      "Tiempo(min): 0.4097761829694112\n",
      "Tiempo(min): 0.4069302042325338\n",
      "Tiempo(min): 0.44591480096181235\n",
      "Tiempo(min): 0.48685210148493446\n",
      "Tiempo(min): 0.48691340287526447\n",
      "Tiempo(min): 0.46397855281829836\n",
      "Tiempo(min): 0.4685523788134257\n",
      "Tiempo(min): 0.4753430167833964\n",
      "Tiempo(min): 0.47675131559371947\n",
      "Tiempo(min): 0.4645605524381002\n",
      "Tiempo(min): 0.5027217507362366\n",
      "Tiempo(min): 0.46880138317743936\n",
      "Tiempo(min): 0.4597977002461751\n",
      "Tiempo(min): 0.4618045806884766\n",
      "Tiempo(min): 0.4664961338043213\n",
      "Tiempo(min): 0.529539970556895\n",
      "Tiempo(min): 0.4936048666636149\n",
      "Tiempo(min): 0.5068695982297261\n",
      "Tiempo(min): 0.4721024791399638\n",
      "Tiempo(min): 0.47478176752726237\n",
      "Tiempo(min): 0.5042820453643799\n",
      "Tiempo(min): 0.4685242374738057\n",
      "Tiempo(min): 0.4283908208211263\n",
      "Tiempo(min): 0.42782278458277384\n",
      "Tiempo(min): 0.4309959332148234\n",
      "Tiempo(min): 0.4456883390744527\n",
      "Tiempo(min): 0.426164448261261\n",
      "Tiempo(min): 0.41932610273361204\n",
      "Tiempo(min): 0.44005330006281534\n",
      "Tiempo(min): 0.5674131353696187\n",
      "Tiempo(min): 0.6644333839416504\n",
      "Tiempo(min): 0.604386814435323\n",
      "Tiempo(min): 0.6994266311327616\n",
      "Tiempo(min): 0.6987685362497965\n",
      "Tiempo(min): 0.6507497151692708\n",
      "Tiempo(min): 0.6334984461466472\n",
      "Tiempo(min): 0.5546116511027018\n",
      "Tiempo(min): 0.39808576901753745\n",
      "Tiempo(min): 0.39299268325169884\n",
      "Tiempo(min): 0.4221425493558248\n",
      "Tiempo(min): 0.4137360175450643\n",
      "Tiempo(min): 0.3973875164985657\n",
      "Tiempo(min): 0.4020903507868449\n",
      "Tiempo(min): 0.45609440008799235\n",
      "Tiempo(min): 0.40431328614552814\n",
      "Tiempo(min): 0.7265036503473917\n",
      "Tiempo(min): 0.40592823425928753\n",
      "Tiempo(min): 0.39399791955947877\n",
      "Tiempo(min): 0.3951920827229818\n",
      "Tiempo(min): 0.40670194625854494\n",
      "Tiempo(min): 0.3883934656778971\n",
      "Tiempo(min): 0.3959186832110087\n",
      "Tiempo(min): 0.3873002648353577\n",
      "Tiempo(min): 0.38506884972254435\n",
      "Tiempo(min): 0.3930794994036357\n",
      "Tiempo(min): 0.3987837870915731\n",
      "Tiempo(min): 0.3993435502052307\n",
      "Tiempo(min): 0.38162741661071775\n",
      "Tiempo(min): 0.3791887521743774\n",
      "Tiempo(min): 0.37427558104197184\n",
      "Tiempo(min): 0.36757484674453733\n",
      "Tiempo(min): 0.550689681371053\n",
      "Tiempo(min): 0.6786006291707357\n",
      "Tiempo(min): 0.40464162031809486\n",
      "Tiempo(min): 0.3652823170026143\n",
      "Tiempo(min): 0.3770280639330546\n",
      "Tiempo(min): 0.3805456678072611\n",
      "Tiempo(min): 0.4236628532409668\n",
      "Tiempo(min): 0.5079527695973715\n",
      "Tiempo(min): 0.450222913424174\n",
      "Tiempo(min): 0.4211003303527832\n",
      "Tiempo(min): 0.4113279024759928\n",
      "Tiempo(min): 0.4088928461074829\n",
      "Tiempo(min): 0.41438037951787315\n",
      "Tiempo(min): 0.4356939355532328\n",
      "Tiempo(min): 0.4404357155164083\n",
      "Tiempo(min): 0.4171712676684062\n",
      "Tiempo(min): 0.415707536538442\n",
      "Tiempo(min): 0.4071526805559794\n",
      "Tiempo(min): 0.41162428458531697\n",
      "Tiempo(min): 0.41077173153559365\n",
      "Tiempo(min): 0.4292102893193563\n",
      "Tiempo(min): 0.44045437971750895\n",
      "Tiempo(min): 0.5118377168973287\n",
      "Tiempo(min): 0.5139234860738119\n",
      "Tiempo(min): 0.6298707326253256\n",
      "Tiempo(min): 0.4959720532099406\n",
      "Tiempo(min): 0.4254417339960734\n",
      "Tiempo(min): 0.4206095496813456\n",
      "Tiempo(min): 0.41760369936625164\n",
      "Tiempo(min): 0.4149367332458496\n",
      "Tiempo(min): 0.41110583146413165\n",
      "Tiempo(min): 0.4126997709274292\n",
      "Tiempo(min): 0.4115751345952352\n",
      "Tiempo(min): 0.4672117511431376\n",
      "Tiempo(min): 0.44089409907658894\n",
      "Tiempo(min): 0.41951536734898887\n",
      "Tiempo(min): 0.4349709669748942\n",
      "Tiempo(min): 0.4267843008041382\n",
      "Tiempo(min): 0.4237562696139018\n",
      "Tiempo(min): 0.44847723642985027\n",
      "Tiempo(min): 0.675057836373647\n",
      "Tiempo(min): 0.7145518859227499\n",
      "Tiempo(min): 0.4504804015159607\n",
      "Tiempo(min): 0.39104883273442587\n",
      "Tiempo(min): 0.42551956574122113\n",
      "Tiempo(min): 0.44665951331456505\n",
      "Tiempo(min): 0.41098135312398276\n",
      "Tiempo(min): 0.41491066217422484\n",
      "Tiempo(min): 0.3964297652244568\n",
      "Tiempo(min): 0.39825446208318077\n",
      "Tiempo(min): 0.3982768972714742\n",
      "Tiempo(min): 0.4020880699157715\n",
      "Tiempo(min): 0.3999147494633993\n",
      "Tiempo(min): 0.47245588302612307\n",
      "Tiempo(min): 0.40928108294804894\n",
      "Tiempo(min): 0.396174697081248\n",
      "Tiempo(min): 0.3922298153241475\n",
      "Tiempo(min): 0.37075159947077435\n",
      "Tiempo(min): 0.3619723876317342\n",
      "Tiempo(min): 0.38688721259435016\n",
      "Tiempo(min): 0.3768312335014343\n",
      "Tiempo(min): 0.357606049378713\n",
      "Tiempo(min): 0.3625758171081543\n",
      "Tiempo(min): 0.35247229735056557\n",
      "Tiempo(min): 0.349867848555247\n",
      "Tiempo(min): 0.338444447517395\n",
      "Tiempo(min): 0.3404556155204773\n",
      "Tiempo(min): 0.3452447811762492\n",
      "Tiempo(min): 0.3381871501604716\n",
      "Tiempo(min): 0.33924347956975304\n",
      "Tiempo(min): 0.3793882648150126\n",
      "Tiempo(min): 0.48727413415908816\n",
      "Tiempo(min): 0.5126777529716492\n",
      "Tiempo(min): 0.5030159632364909\n",
      "Tiempo(min): 0.5166407148043315\n",
      "Tiempo(min): 0.5064729531606038\n",
      "Tiempo(min): 0.5060723185539245\n",
      "Tiempo(min): 0.5065886656443278\n",
      "Tiempo(min): 0.50817817846934\n",
      "Tiempo(min): 0.5062583684921265\n",
      "Tiempo(min): 0.5095605333646138\n",
      "Tiempo(min): 0.4862613519032796\n",
      "Tiempo(min): 0.47138898372650145\n",
      "Tiempo(min): 0.47691038449605305\n",
      "Tiempo(min): 0.4613546371459961\n",
      "Tiempo(min): 0.4591047008832296\n",
      "Tiempo(min): 0.46225955088933307\n",
      "Tiempo(min): 0.453996733824412\n",
      "Tiempo(min): 0.4520204504330953\n",
      "Tiempo(min): 0.45647518237431844\n",
      "Tiempo(min): 0.45780733426411946\n",
      "Tiempo(min): 0.45999783674875894\n",
      "Tiempo(min): 0.45626418193181356\n",
      "Tiempo(min): 0.4540898362795512\n",
      "Tiempo(min): 0.4560285011927287\n",
      "Tiempo(min): 0.457507336139679\n",
      "Tiempo(min): 0.44643295208613076\n",
      "Tiempo(min): 0.4375762184460958\n",
      "Tiempo(min): 0.42685263554255165\n",
      "Tiempo(min): 0.4522479812304179\n",
      "Tiempo(min): 0.45507131417592367\n",
      "Tiempo(min): 0.45055328607559203\n",
      "Tiempo(min): 0.4415373643239339\n",
      "Tiempo(min): 0.4498305638631185\n",
      "Tiempo(min): 0.5451906005541484\n",
      "Tiempo(min): 0.4589486002922058\n",
      "Tiempo(min): 0.4486295461654663\n",
      "Tiempo(min): 0.45718593200047813\n",
      "Tiempo(min): 0.46094950040181476\n",
      "Tiempo(min): 0.44855768283208214\n",
      "Tiempo(min): 0.4433868487675985\n",
      "Tiempo(min): 0.4353773872057597\n",
      "Tiempo(min): 0.4388754844665527\n",
      "Tiempo(min): 0.4505961338678996\n",
      "Tiempo(min): 0.4441420833269755\n",
      "Tiempo(min): 0.4628379305203756\n",
      "Tiempo(min): 0.4638992150624593\n",
      "Tiempo(min): 0.44192711512247723\n",
      "Tiempo(min): 0.43911563555399574\n",
      "Tiempo(min): 0.44226020177205405\n",
      "Tiempo(min): 0.4353533705075582\n",
      "Tiempo(min): 0.4379422187805176\n",
      "Tiempo(min): 0.43543310165405275\n",
      "Tiempo(min): 0.4313572367032369\n",
      "Tiempo(min): 0.4293488661448161\n",
      "Tiempo(min): 0.3966339667638143\n",
      "Tiempo(min): 0.39555824995040895\n",
      "Tiempo(min): 0.3907512307167053\n",
      "Tiempo(min): 0.5292113661766052\n",
      "Tiempo(min): 0.4654443303743998\n",
      "Tiempo(min): 0.4896837790807088\n",
      "Tiempo(min): 0.4515563209851583\n",
      "Tiempo(min): 0.4525299668312073\n",
      "Tiempo(min): 0.327351717154185\n",
      "Tiempo(min): 0.3197503010431925\n"
     ]
    }
   ],
   "source": [
    "TG_I=Temps_gain_final(f,altaz6,2.5,Gn_I)"
   ]
  },
  {
   "cell_type": "code",
   "execution_count": 23,
   "metadata": {},
   "outputs": [
    {
     "name": "stderr",
     "output_type": "stream",
     "text": [
      "WARNING: failed to download http://maia.usno.navy.mil/ser7/finals2000A.all and http://toshi.nofs.navy.mil/ser7/finals2000A.all, using local IERS-B: <urlopen error [Errno 8] nodename nor servname provided, or not known. requested URL: http://maia.usno.navy.mil/ser7/finals2000A.all>;<urlopen error [Errno 8] nodename nor servname provided, or not known. requested URL: http://toshi.nofs.navy.mil/ser7/finals2000A.all> [astropy.utils.iers.iers]\n",
      "WARNING: Tried to get polar motions for times after IERS data is valid. Defaulting to polar motion from the 50-yr mean for those. This may affect precision at the 10s of arcsec level [astropy.coordinates.builtin_frames.utils]\n",
      "WARNING: (some) times are outside of range covered by IERS table. Assuming UT1-UTC=0 for coordinate transformations. [astropy.coordinates.builtin_frames.utils]\n"
     ]
    },
    {
     "name": "stdout",
     "output_type": "stream",
     "text": [
      "0\n",
      "1\n",
      "2\n",
      "3\n",
      "4\n",
      "5\n",
      "6\n",
      "7\n",
      "8\n",
      "9\n",
      "10\n",
      "11\n",
      "12\n",
      "13\n",
      "14\n",
      "15\n",
      "16\n",
      "17\n",
      "18\n",
      "19\n",
      "20\n",
      "21\n",
      "22\n",
      "23\n",
      "24\n",
      "25\n",
      "26\n",
      "27\n",
      "28\n",
      "29\n",
      "30\n",
      "31\n",
      "32\n",
      "33\n",
      "34\n",
      "35\n",
      "36\n",
      "37\n",
      "38\n",
      "39\n",
      "40\n",
      "41\n",
      "42\n",
      "43\n",
      "44\n",
      "45\n",
      "46\n",
      "47\n",
      "48\n",
      "49\n",
      "50\n",
      "51\n",
      "52\n",
      "53\n",
      "54\n",
      "55\n",
      "56\n",
      "57\n",
      "58\n",
      "59\n",
      "60\n",
      "61\n",
      "62\n",
      "63\n",
      "64\n",
      "65\n",
      "66\n",
      "67\n",
      "68\n",
      "69\n",
      "70\n",
      "71\n",
      "72\n",
      "73\n",
      "74\n",
      "75\n",
      "76\n",
      "77\n",
      "78\n",
      "79\n",
      "80\n",
      "81\n",
      "82\n",
      "83\n",
      "84\n",
      "85\n",
      "86\n",
      "87\n",
      "88\n",
      "89\n",
      "90\n",
      "91\n",
      "92\n",
      "93\n",
      "94\n",
      "95\n",
      "96\n",
      "97\n",
      "98\n",
      "99\n",
      "100\n",
      "101\n",
      "102\n",
      "103\n",
      "104\n",
      "105\n",
      "106\n",
      "107\n",
      "108\n",
      "109\n",
      "110\n",
      "111\n",
      "112\n",
      "113\n",
      "114\n",
      "115\n",
      "116\n",
      "117\n",
      "118\n",
      "119\n",
      "120\n",
      "121\n",
      "122\n",
      "123\n",
      "124\n",
      "125\n",
      "126\n",
      "127\n",
      "128\n",
      "129\n",
      "130\n",
      "131\n",
      "132\n",
      "133\n",
      "134\n",
      "135\n",
      "136\n",
      "137\n",
      "138\n",
      "139\n",
      "140\n",
      "141\n",
      "142\n",
      "143\n",
      "144\n",
      "145\n",
      "146\n",
      "147\n",
      "148\n",
      "149\n",
      "150\n",
      "151\n",
      "152\n",
      "153\n",
      "154\n",
      "155\n",
      "156\n",
      "157\n",
      "158\n",
      "159\n",
      "160\n",
      "161\n",
      "162\n",
      "163\n",
      "164\n",
      "165\n",
      "166\n",
      "167\n",
      "168\n",
      "169\n",
      "170\n",
      "171\n",
      "172\n",
      "173\n",
      "174\n",
      "175\n",
      "176\n",
      "177\n",
      "178\n",
      "179\n",
      "180\n",
      "181\n",
      "182\n",
      "183\n",
      "184\n",
      "185\n",
      "186\n",
      "187\n",
      "188\n",
      "189\n",
      "190\n",
      "191\n",
      "192\n",
      "193\n",
      "194\n",
      "195\n",
      "196\n",
      "197\n",
      "198\n",
      "199\n",
      "200\n",
      "201\n",
      "202\n",
      "203\n",
      "204\n",
      "205\n",
      "206\n",
      "207\n",
      "208\n",
      "209\n",
      "210\n",
      "211\n",
      "212\n",
      "213\n",
      "214\n",
      "215\n",
      "216\n",
      "217\n",
      "218\n",
      "219\n",
      "220\n",
      "221\n",
      "222\n",
      "223\n",
      "224\n",
      "225\n",
      "226\n",
      "227\n",
      "228\n",
      "229\n",
      "230\n",
      "231\n",
      "232\n",
      "233\n",
      "234\n",
      "235\n",
      "236\n",
      "237\n",
      "238\n",
      "239\n",
      "Tiempo(min): 85.87561371326447\n",
      "0\n",
      "1\n",
      "2\n",
      "3\n",
      "4\n",
      "5\n",
      "6\n",
      "7\n",
      "8\n",
      "9\n",
      "10\n",
      "11\n",
      "12\n",
      "13\n",
      "14\n",
      "15\n",
      "16\n",
      "17\n",
      "18\n",
      "19\n",
      "20\n",
      "21\n",
      "22\n",
      "23\n",
      "24\n",
      "25\n",
      "26\n",
      "27\n",
      "28\n",
      "29\n",
      "30\n",
      "31\n",
      "32\n",
      "33\n",
      "34\n",
      "35\n",
      "36\n",
      "37\n",
      "38\n",
      "39\n",
      "40\n"
     ]
    },
    {
     "name": "stderr",
     "output_type": "stream",
     "text": [
      "WARNING: failed to download http://maia.usno.navy.mil/ser7/finals2000A.all and http://toshi.nofs.navy.mil/ser7/finals2000A.all, using local IERS-B: <urlopen error timed out>;<urlopen error [Errno 8] nodename nor servname provided, or not known. requested URL: http://toshi.nofs.navy.mil/ser7/finals2000A.all> [astropy.utils.iers.iers]\n"
     ]
    },
    {
     "name": "stdout",
     "output_type": "stream",
     "text": [
      "41\n",
      "42\n",
      "43\n",
      "44\n",
      "45\n",
      "46\n",
      "47\n",
      "48\n",
      "49\n",
      "50\n",
      "51\n",
      "52\n",
      "53\n",
      "54\n",
      "55\n",
      "56\n",
      "57\n",
      "58\n",
      "59\n",
      "60\n",
      "61\n",
      "62\n",
      "63\n",
      "64\n",
      "65\n",
      "66\n",
      "67\n",
      "68\n",
      "69\n",
      "70\n",
      "71\n",
      "72\n",
      "73\n",
      "74\n",
      "75\n",
      "76\n",
      "77\n",
      "78\n",
      "79\n",
      "80\n",
      "81\n",
      "82\n",
      "83\n",
      "84\n",
      "85\n",
      "86\n",
      "87\n",
      "88\n",
      "89\n",
      "90\n",
      "91\n",
      "92\n",
      "93\n",
      "94\n",
      "95\n",
      "96\n",
      "97\n",
      "98\n",
      "99\n",
      "100\n",
      "101\n",
      "102\n",
      "103\n",
      "104\n",
      "105\n",
      "106\n",
      "107\n",
      "108\n",
      "109\n",
      "110\n",
      "111\n",
      "112\n",
      "113\n",
      "114\n",
      "115\n",
      "116\n",
      "117\n",
      "118\n",
      "119\n",
      "120\n",
      "121\n",
      "122\n",
      "123\n",
      "124\n",
      "125\n",
      "126\n",
      "127\n",
      "128\n",
      "129\n",
      "130\n",
      "131\n",
      "132\n",
      "133\n",
      "134\n",
      "135\n",
      "136\n",
      "137\n",
      "138\n",
      "139\n",
      "140\n",
      "141\n",
      "142\n",
      "143\n",
      "144\n",
      "145\n",
      "146\n",
      "147\n",
      "148\n",
      "149\n",
      "150\n",
      "151\n",
      "152\n",
      "153\n",
      "154\n",
      "155\n",
      "156\n",
      "157\n",
      "158\n",
      "159\n",
      "160\n",
      "161\n",
      "162\n",
      "163\n",
      "164\n",
      "165\n",
      "166\n",
      "167\n",
      "168\n",
      "169\n",
      "170\n",
      "171\n",
      "172\n",
      "173\n",
      "174\n",
      "175\n",
      "176\n",
      "177\n",
      "178\n",
      "179\n",
      "180\n",
      "181\n",
      "182\n",
      "183\n",
      "184\n",
      "185\n",
      "186\n",
      "187\n",
      "188\n",
      "189\n",
      "190\n",
      "191\n",
      "192\n",
      "193\n",
      "194\n",
      "195\n",
      "196\n",
      "197\n",
      "198\n",
      "199\n",
      "200\n",
      "201\n",
      "202\n",
      "203\n",
      "204\n",
      "205\n",
      "206\n",
      "207\n",
      "208\n",
      "209\n",
      "210\n",
      "211\n",
      "212\n",
      "213\n",
      "214\n",
      "215\n",
      "216\n",
      "217\n",
      "218\n",
      "219\n",
      "220\n",
      "221\n",
      "222\n",
      "223\n",
      "224\n",
      "225\n",
      "226\n",
      "227\n",
      "228\n",
      "229\n",
      "230\n",
      "231\n",
      "232\n",
      "233\n",
      "234\n",
      "235\n",
      "236\n",
      "237\n",
      "238\n",
      "239\n",
      "Tiempo(min): 273.55412833690644\n"
     ]
    }
   ],
   "source": [
    "TG_SA=Temps_gain_final(f,altaz6,2.5,Gn_SA)\n",
    "TG_CA=Temps_gain_final(f,altaz6,2.5,Gn_CA)"
   ]
  },
  {
   "cell_type": "code",
   "execution_count": 19,
   "metadata": {},
   "outputs": [],
   "source": [
    "savetxt('DSG Inicial', TG_I)"
   ]
  },
  {
   "cell_type": "code",
   "execution_count": 20,
   "metadata": {},
   "outputs": [],
   "source": [
    "horas=linspace(0,24,48)"
   ]
  },
  {
   "cell_type": "code",
   "execution_count": 38,
   "metadata": {},
   "outputs": [],
   "source": [
    "savetxt('DSG Inicial.txt', TG_I)\n",
    "savetxt('DSG Sin Alas.txt', TG_SA)\n",
    "savetxt('DSG Con Alas.txt', TG_CA)"
   ]
  },
  {
   "cell_type": "code",
   "execution_count": 34,
   "metadata": {},
   "outputs": [
    {
     "data": {
      "text/plain": [
       "((81,), (80, 91, 360))"
      ]
     },
     "execution_count": 34,
     "metadata": {},
     "output_type": "execute_result"
    }
   ],
   "source": [
    "f_E=arange(40,121,1)\n",
    "shape(f_E),shape(Gn_E)"
   ]
  },
  {
   "cell_type": "code",
   "execution_count": 36,
   "metadata": {},
   "outputs": [
    {
     "name": "stderr",
     "output_type": "stream",
     "text": [
      "WARNING: failed to download http://maia.usno.navy.mil/ser7/finals2000A.all and http://toshi.nofs.navy.mil/ser7/finals2000A.all, using local IERS-B: <urlopen error timed out>;<urlopen error [Errno 8] nodename nor servname provided, or not known. requested URL: http://toshi.nofs.navy.mil/ser7/finals2000A.all> [astropy.utils.iers.iers]\n",
      "WARNING: Tried to get polar motions for times after IERS data is valid. Defaulting to polar motion from the 50-yr mean for those. This may affect precision at the 10s of arcsec level [astropy.coordinates.builtin_frames.utils]\n",
      "WARNING: (some) times are outside of range covered by IERS table. Assuming UT1-UTC=0 for coordinate transformations. [astropy.coordinates.builtin_frames.utils]\n"
     ]
    },
    {
     "name": "stdout",
     "output_type": "stream",
     "text": [
      "0\n",
      "1\n",
      "2\n",
      "3\n",
      "4\n",
      "5\n",
      "6\n",
      "7\n",
      "8\n",
      "9\n",
      "10\n",
      "11\n",
      "12\n",
      "13\n",
      "14\n",
      "15\n",
      "16\n",
      "17\n",
      "18\n",
      "19\n",
      "20\n",
      "21\n",
      "22\n",
      "23\n",
      "24\n",
      "25\n",
      "26\n",
      "27\n",
      "28\n",
      "29\n",
      "30\n",
      "31\n",
      "32\n",
      "33\n",
      "34\n",
      "35\n",
      "36\n",
      "37\n",
      "38\n",
      "39\n",
      "40\n",
      "41\n",
      "42\n",
      "43\n",
      "44\n",
      "45\n",
      "46\n",
      "47\n",
      "48\n",
      "49\n",
      "50\n",
      "51\n",
      "52\n",
      "53\n",
      "54\n",
      "55\n",
      "56\n",
      "57\n",
      "58\n",
      "59\n",
      "60\n",
      "61\n",
      "62\n",
      "63\n",
      "64\n",
      "65\n",
      "66\n",
      "67\n",
      "68\n",
      "69\n",
      "70\n",
      "71\n",
      "72\n",
      "73\n",
      "74\n",
      "75\n",
      "76\n",
      "77\n",
      "78\n",
      "79\n",
      "80\n",
      "81\n",
      "82\n",
      "83\n",
      "84\n",
      "85\n",
      "86\n",
      "87\n",
      "88\n",
      "89\n",
      "90\n",
      "91\n",
      "92\n",
      "93\n",
      "94\n",
      "95\n",
      "96\n",
      "97\n",
      "98\n",
      "99\n",
      "100\n",
      "101\n",
      "102\n",
      "103\n",
      "104\n",
      "105\n",
      "106\n",
      "107\n",
      "108\n",
      "109\n",
      "110\n",
      "111\n",
      "112\n",
      "113\n",
      "114\n",
      "115\n",
      "116\n",
      "117\n",
      "118\n",
      "119\n",
      "120\n",
      "121\n",
      "122\n",
      "123\n",
      "124\n",
      "125\n",
      "126\n",
      "127\n",
      "128\n",
      "129\n",
      "130\n",
      "131\n",
      "132\n",
      "133\n",
      "134\n",
      "135\n",
      "136\n",
      "137\n",
      "138\n",
      "139\n",
      "140\n",
      "141\n",
      "142\n",
      "143\n",
      "144\n",
      "145\n",
      "146\n",
      "147\n",
      "148\n",
      "149\n",
      "150\n",
      "151\n",
      "152\n",
      "153\n",
      "154\n",
      "155\n",
      "156\n",
      "157\n",
      "158\n",
      "159\n",
      "160\n",
      "161\n",
      "162\n",
      "163\n",
      "164\n",
      "165\n",
      "166\n",
      "167\n",
      "168\n",
      "169\n",
      "170\n",
      "171\n",
      "172\n",
      "173\n",
      "174\n",
      "175\n",
      "176\n",
      "177\n",
      "178\n",
      "179\n",
      "180\n",
      "181\n",
      "182\n",
      "183\n",
      "184\n",
      "185\n",
      "186\n",
      "187\n",
      "188\n",
      "189\n",
      "190\n",
      "191\n",
      "192\n",
      "193\n",
      "194\n",
      "195\n",
      "196\n",
      "197\n",
      "198\n",
      "199\n",
      "200\n",
      "201\n",
      "202\n",
      "203\n",
      "204\n",
      "205\n",
      "206\n",
      "207\n",
      "208\n",
      "209\n",
      "210\n",
      "211\n",
      "212\n",
      "213\n",
      "214\n",
      "215\n",
      "216\n",
      "217\n",
      "218\n",
      "219\n",
      "220\n",
      "221\n",
      "222\n",
      "223\n",
      "224\n",
      "225\n",
      "226\n",
      "227\n",
      "228\n",
      "229\n",
      "230\n",
      "231\n"
     ]
    },
    {
     "name": "stderr",
     "output_type": "stream",
     "text": [
      "WARNING: failed to download http://maia.usno.navy.mil/ser7/finals2000A.all and http://toshi.nofs.navy.mil/ser7/finals2000A.all, using local IERS-B: <urlopen error [Errno 8] nodename nor servname provided, or not known. requested URL: http://maia.usno.navy.mil/ser7/finals2000A.all>;<urlopen error [Errno 8] nodename nor servname provided, or not known. requested URL: http://toshi.nofs.navy.mil/ser7/finals2000A.all> [astropy.utils.iers.iers]\n"
     ]
    },
    {
     "name": "stdout",
     "output_type": "stream",
     "text": [
      "232\n",
      "233\n",
      "234\n",
      "235\n",
      "236\n",
      "237\n",
      "238\n",
      "239\n",
      "Tiempo(min): 139.43851488431295\n"
     ]
    }
   ],
   "source": [
    "TG_E=Temps_gain_final(f_E,altaz6,2.5,Gn_E)"
   ]
  },
  {
   "cell_type": "code",
   "execution_count": 37,
   "metadata": {},
   "outputs": [
    {
     "data": {
      "text/plain": [
       "(240, 81)"
      ]
     },
     "execution_count": 37,
     "metadata": {},
     "output_type": "execute_result"
    }
   ],
   "source": [
    "savetxt('DSG EDGES.txt', TG_E)\n",
    "shape(TG_E)"
   ]
  },
  {
   "cell_type": "code",
   "execution_count": 26,
   "metadata": {},
   "outputs": [
    {
     "data": {
      "text/plain": [
       "(Text(0.5,1,'With gain pattern Initial'),\n",
       " Text(0.5,0,'freq (MHz)'),\n",
       " Text(0,0.5,'Hour'))"
      ]
     },
     "execution_count": 26,
     "metadata": {},
     "output_type": "execute_result"
    },
    {
     "data": {
      "image/png": "[encoded data removed]",
      "text/plain": [
       "<Figure size 720x648 with 2 Axes>"
      ]
     },
     "metadata": {},
     "output_type": "display_data"
    }
   ],
   "source": [
    "figure(figsize=(10,9))\n",
    "horas=linspace(0,24,240)\n",
    "pcolormesh(f,horas, TG_CA,cmap='gnuplot2')\n",
    "colorbar(label='T(K)',orientation=\"horizontal\")\n",
    "title(\"With gain pattern Initial\"),xlabel('freq (MHz)'),ylabel('Hour')"
   ]
  },
  {
   "cell_type": "code",
   "execution_count": 31,
   "metadata": {},
   "outputs": [
    {
     "data": {
      "text/plain": [
       "array([[False, False, False, ..., False, False, False],\n",
       "       [False, False, False, ..., False, False, False],\n",
       "       [False, False, False, ..., False, False, False],\n",
       "       ...,\n",
       "       [False, False, False, ..., False, False, False],\n",
       "       [False, False, False, ..., False, False, False],\n",
       "       [False, False, False, ..., False, False, False]])"
      ]
     },
     "execution_count": 31,
     "metadata": {},
     "output_type": "execute_result"
    }
   ],
   "source": [
    "TG_I==TG_CA"
   ]
  },
  {
   "cell_type": "code",
   "execution_count": null,
   "metadata": {},
   "outputs": [],
   "source": []
  },
  {
   "cell_type": "code",
   "execution_count": null,
   "metadata": {},
   "outputs": [],
   "source": []
  },
  {
   "cell_type": "code",
   "execution_count": 36,
   "metadata": {},
   "outputs": [],
   "source": [
    "fig1=pd.read_csv('/Users/michellemora/Documents/Universidad/9/Germanchou/figure1_plotdata.csv',names=['Freq','Weight','Tsky','Tres1','Tres2','Tmodel','T21'],skiprows=4,skipfooter=2,engine='python')\n",
    "freqs1=f\n",
    "\n"
   ]
  },
  {
   "cell_type": "code",
   "execution_count": 55,
   "metadata": {},
   "outputs": [
    {
     "data": {
      "text/plain": [
       "([[<matplotlib.lines.Line2D at 0x13dce65f8>],\n",
       "  [<matplotlib.lines.Line2D at 0x13dce6780>]],\n",
       " <matplotlib.legend.Legend at 0x13dce60f0>,\n",
       " Text(0.5,0,'freq (MHz)'),\n",
       " Text(0,0.5,'T (K)'))"
      ]
     },
     "execution_count": 55,
     "metadata": {},
     "output_type": "execute_result"
    },
    {
     "data": {
      "image/png": "[encoded data removed]",
      "text/plain": [
       "<Figure size 1152x648 with 9 Axes>"
      ]
     },
     "metadata": {},
     "output_type": "display_data"
    }
   ],
   "source": [
    "figure(figsize=(16,9))\n",
    "subplot2grid((3,3), (0,0),rowspan=2)\n",
    "pcolormesh(f,horas, TG_I,cmap='gist_earth')\n",
    "colorbar(label='T(K)',orientation=\"horizontal\")\n",
    "title(\"$Initial\\ antenna$\"),xlabel('freq (MHz)'),ylabel('Hour')\n",
    "\n",
    "subplot2grid((3,3), (0,1),rowspan=2)\n",
    "pcolormesh(f,horas, TG_SA,cmap='gist_earth')\n",
    "colorbar(label='T(K)',orientation=\"horizontal\")\n",
    "title(\"$Antenna\\ with\\ wings$\"),ylabel('Hour'),xlabel('freq (MHz)')\n",
    "\n",
    "subplot2grid((3,3), (0,2),rowspan=2)\n",
    "pcolormesh(f,horas, TG_CA,cmap='gist_earth')\n",
    "colorbar(label='T(K)',orientation=\"horizontal\")\n",
    "title(\"$Antenna\\ without\\ wings$\"),ylabel('Hour'),xlabel('freq (MHz)')\n",
    "\n",
    "#GRAFICO MALO!!!! ARREGLAR HORAS DESDE PLOTS\n",
    "subplot2grid((3,3), (2,0))\n",
    "plot(fig1['Freq'],fig1['Tsky'],label='Tsky EDGES')\n",
    "[plot(freqs1,TG_I[i],label=i/2) for i in ([12,18])],legend(),xlabel('freq (MHz)'),ylabel('T (K)')\n",
    "\n",
    "subplot2grid((3,3), (2,1))\n",
    "plot(fig1['Freq'],fig1['Tsky'],label='Tsky EDGES')\n",
    "[plot(freqs1,TG_SA[i],label=i/2) for i in ([12,18])],legend(),xlabel('freq (MHz)'),ylabel('T (K)')\n",
    "\n",
    "subplot2grid((3,3), (2,2))\n",
    "plot(fig1['Freq'],fig1['Tsky'],label='Tsky EDGES')\n",
    "[plot(freqs1,TG_CA[i],label=i/2) for i in ([12,18])],legend(),xlabel('freq (MHz)'),ylabel('T (K)')"
   ]
  },
  {
   "cell_type": "code",
   "execution_count": 64,
   "metadata": {},
   "outputs": [
    {
     "data": {
      "text/plain": [
       "<matplotlib.legend.Legend at 0x13f3f0908>"
      ]
     },
     "execution_count": 64,
     "metadata": {},
     "output_type": "execute_result"
    },
    {
     "data": {
      "image/png": "[encoded data removed]",
      "text/plain": [
       "<Figure size 1080x576 with 3 Axes>"
      ]
     },
     "metadata": {},
     "output_type": "display_data"
    }
   ],
   "source": [
    "figure(figsize=(15,8))\n",
    "subplot(1,2,1)\n",
    "pcolormesh(f,horas, TG_I,cmap='gist_earth')\n",
    "colorbar(label='T(K)',orientation=\"horizontal\")\n",
    "title(\"Initial Antenna\"),ylabel('Hour'),xlabel('freq (MHz)')\n",
    "subplot(1,2,2)\n",
    "[plot(f,TG_I[i],label=i/10) for i in ([60,90])],legend(),xlabel('freq (MHz)'),ylabel('T (K)')\n",
    "plot(fig1['Freq'],fig1['Tsky'],label='Tsky EDGES')\n",
    "xlim([50,100]),ylim([1000,4000])\n",
    "legend()"
   ]
  },
  {
   "cell_type": "code",
   "execution_count": 78,
   "metadata": {},
   "outputs": [
    {
     "data": {
      "text/plain": [
       "(Text(0.5,1,'With gain pattern Initial'),\n",
       " Text(0.5,0,'freq (MHz)'),\n",
       " Text(0,0.5,'Hour'))"
      ]
     },
     "execution_count": 78,
     "metadata": {},
     "output_type": "execute_result"
    },
    {
     "data": {
      "image/png": "[encoded data removed]",
      "text/plain": [
       "<Figure size 432x288 with 2 Axes>"
      ]
     },
     "metadata": {},
     "output_type": "display_data"
    }
   ],
   "source": [
    "#figure(figsize=(16,9))\n",
    "horas=linspace(0,24,240)\n",
    "pcolormesh(f,horas, TG_I,cmap='gnuplot2')\n",
    "colorbar(label='T(K)',orientation=\"horizontal\")\n",
    "title(\"With gain pattern Initial\"),xlabel('freq (MHz)'),ylabel('Hour')"
   ]
  },
  {
   "cell_type": "code",
   "execution_count": 48,
   "metadata": {},
   "outputs": [
    {
     "data": {
      "text/plain": [
       "array([[13595.72391497, 12738.16063794, 11951.05530212, ...,\n",
       "          837.8150343 ,   824.46036653,   811.59687382],\n",
       "       [13736.13173691, 12869.5626884 , 12074.22674587, ...,\n",
       "          846.32308922,   832.69543013,   819.56765192],\n",
       "       [12706.86195801, 11907.58391851, 11173.79204259, ...,\n",
       "          784.43291647,   772.5635802 ,   761.13087434],\n",
       "       ...,\n",
       "       [17397.17753466, 16317.82977554, 15328.33303551, ...,\n",
       "         1084.84704335,  1062.00289218,  1039.84951781],\n",
       "       [16028.55439481, 15023.78432263, 14102.30723175, ...,\n",
       "          990.81795067,   971.73351078,   953.27393922],\n",
       "       [14751.76291825, 13821.8406198 , 12968.64439289, ...,\n",
       "          908.75518092,   892.90605562,   877.61717564]])"
      ]
     },
     "execution_count": 48,
     "metadata": {},
     "output_type": "execute_result"
    }
   ],
   "source": [
    "T_G_B=loadtxt('/Users/michellemora/Documents/Universidad/9/Germanchou/DS+G B.txt')\n",
    "T_G_B"
   ]
  },
  {
   "cell_type": "markdown",
   "metadata": {},
   "source": [
    "### First try (wrong)"
   ]
  },
  {
   "cell_type": "code",
   "execution_count": null,
   "metadata": {},
   "outputs": [],
   "source": []
  },
  {
   "cell_type": "markdown",
   "metadata": {},
   "source": [
    "### Dynamic Spectra with gain pattern $g=g(\\theta,\\phi)$"
   ]
  },
  {
   "cell_type": "code",
   "execution_count": null,
   "metadata": {},
   "outputs": [],
   "source": [
    "def Temps_gain_final(fs,ts,alfa):  \n",
    "    '''Takes frequencies (fs), times in AltAz frame (ts) and returns the Temperature + Gain matrix'''\n",
    "    \n",
    "    start = time.time()\n",
    "    Temps_g=zeros((ts.obstime.size,len(fs))) \n",
    "    for i in range (ts.obstime.size): \n",
    "        \n",
    "        \n",
    "        aa_coord=g_coord.transform_to(ts[i])      #Galactic to Altaz\n",
    "        mask=argwhere(aa_coord.alt>0)             #Only coordinates above the horizon\n",
    "        T_sky=T_Hmap[mask]                        #Only those temperatures\n",
    "        \n",
    "        Th=np.round((90*u.deg-(aa_coord.alt[mask]))/(1*u.deg))    #Thetas to use in same order as Tsky\n",
    "        Th=Th.value.astype(int)                                   #Int value (dTheta=1deg)\n",
    "        \n",
    "        phi=aa_coord.az[mask]                                     ##phi's==azimuth\n",
    "        phi=phi.value.astype(int)                                 ##Int value (dphi=1deg)\n",
    "        \n",
    "        \n",
    "        T_f=T_freq(alfa,408,fs,T_sky)             #Extrapolation\n",
    "            \n",
    "        gain=G_n[fs,Th,phi]/mean(G_n[fs,Th,phi])          ##Gains of Th and phi in same order as Tsky  \n",
    "            \n",
    "        T_f_g=gain*T_f                            #New T_sky with respective gain\n",
    "        \n",
    "        Temps_g[-i,:]=mean(T_f_g)                 #Mean temperature (bottom to top)\n",
    "        \n",
    "    end = time.time()\n",
    "    print('Tiempo(min):',(end - start)/60)    \n",
    "        \n",
    "      \n",
    "    return Temps_g"
   ]
  },
  {
   "cell_type": "code",
   "execution_count": null,
   "metadata": {},
   "outputs": [],
   "source": [
    "T_G_NO=loadtxt('DS+G FINAL.txt')"
   ]
  },
  {
   "cell_type": "code",
   "execution_count": null,
   "metadata": {},
   "outputs": [],
   "source": [
    "GainTotal [] - Freq='0.04GHz' Phi='0deg'"
   ]
  },
  {
   "cell_type": "code",
   "execution_count": null,
   "metadata": {},
   "outputs": [],
   "source": []
  },
  {
   "cell_type": "code",
   "execution_count": null,
   "metadata": {},
   "outputs": [],
   "source": []
  },
  {
   "cell_type": "code",
   "execution_count": null,
   "metadata": {},
   "outputs": [],
   "source": [
    "def Temps_gain(fs,ts,alfa,G_n):  \n",
    "    '''Takes frequencies (fs), times in AltAz frame (ts) and returns the Temperature + Gain matrix'''\n",
    "    \n",
    "    \n",
    "    Temps_g=zeros((ts.obstime.size,len(fs))) \n",
    "    for i in range (ts.obstime.size):  \n",
    "        \n",
    "        start = time.time()\n",
    "        aa_coord=g_coord.transform_to(ts[i])      #Galactic to Altaz\n",
    "        mask=argwhere(aa_coord.alt>0)             #Only coordinates above the horizon\n",
    "        T_sky=T_Hmap[mask]                        #Only those temperatures\n",
    "        \n",
    "        Th=np.round((90*u.deg-(aa_coord.alt[mask]))/(1*u.deg))    #Thetas to use in same order as Tsky\n",
    "        Th=Th.value.astype(int)                                   #Int value (dTheta=1deg)\n",
    "        \n",
    "        phi=aa_coord.az[mask]                                     ##phi's==azimuth\n",
    "        phi=phi.value.astype(int)                                 ##Int value (dphi=1deg)\n",
    "        \n",
    "        \n",
    "        T_f=\n",
    "        \n",
    "        gain=G_n[:,Th,phi]/mean(G_n[,Th,phi])          ##Gains of Th and phi in same order as Tsky\n",
    "        \n",
    "        \n",
    "        for j in range (len(fs)): \n",
    "            T_f=T_freq(alfa,408,fs[j],T_sky)                #Extrapolation\n",
    "            \n",
    "            gain=G_n[j,Th,phi]/mean(G_n[j,Th,phi])          ##Gains of Th and phi in same order as Tsky  \n",
    "            \n",
    "            T_f_g=gain[j]*T_f                                  #New T_sky with respective gain\n",
    "            Temps_g[-i,j]=mean(T_f_g)                       #Mean temperature (bottom to top)\n",
    "        \n",
    "        end = time.time()\n",
    "        print('Tiempo(min):',(end - start)/60)    \n",
    "        \n",
    "      \n",
    "    return Temps_g"
   ]
  },
  {
   "cell_type": "code",
   "execution_count": null,
   "metadata": {},
   "outputs": [],
   "source": []
  },
  {
   "cell_type": "code",
   "execution_count": 95,
   "metadata": {},
   "outputs": [
    {
     "data": {
      "text/plain": [
       "(161, 91, 360)"
      ]
     },
     "execution_count": 95,
     "metadata": {},
     "output_type": "execute_result"
    }
   ],
   "source": [
    "shape(Gn_I)"
   ]
  },
  {
   "cell_type": "code",
   "execution_count": 133,
   "metadata": {},
   "outputs": [],
   "source": [
    "m=mean(Gn_I[:,[0,1],[0,1]],axis=1)   #MEAN GAIN for each frequency"
   ]
  },
  {
   "cell_type": "code",
   "execution_count": null,
   "metadata": {},
   "outputs": [],
   "source": []
  },
  {
   "cell_type": "code",
   "execution_count": 72,
   "metadata": {},
   "outputs": [
    {
     "data": {
      "text/plain": [
       "<AltAz Coordinate (obstime=2021-06-14T00:00:00.000, location=(2225015.30883296, -5440016.41799762, -2481631.27428014) m, pressure=0.0 hPa, temperature=0.0 deg_C, relative_humidity=0.0, obswl=1.0 micron): (az, alt) in deg\n",
       "    (57.29577951, 57.29577951)>"
      ]
     },
     "execution_count": 72,
     "metadata": {},
     "output_type": "execute_result"
    }
   ],
   "source": [
    "g0 = AltAz(az=1*u.rad,alt=1*u.rad,location=Alma_loc, obstime=times6[0])\n",
    "g0"
   ]
  },
  {
   "cell_type": "code",
   "execution_count": 73,
   "metadata": {},
   "outputs": [
    {
     "ename": "ConvertError",
     "evalue": "Cannot transform from <class 'astropy.coordinates.builtin_frames.altaz.AltAz'> to <class 'str'>",
     "output_type": "error",
     "traceback": [
      "\u001b[0;31m---------------------------------------------------------------------------\u001b[0m",
      "\u001b[0;31mConvertError\u001b[0m                              Traceback (most recent call last)",
      "\u001b[0;32m<ipython-input-73-58d49b2d9369>\u001b[0m in \u001b[0;36m<module>\u001b[0;34m()\u001b[0m\n\u001b[0;32m----> 1\u001b[0;31m \u001b[0mgal_coord\u001b[0m\u001b[0;34m=\u001b[0m\u001b[0mg0\u001b[0m\u001b[0;34m.\u001b[0m\u001b[0mtransform_to\u001b[0m\u001b[0;34m(\u001b[0m\u001b[0;34m'galactic'\u001b[0m\u001b[0;34m)\u001b[0m\u001b[0;34m\u001b[0m\u001b[0m\n\u001b[0m",
      "\u001b[0;32m~/anaconda3/lib/python3.6/site-packages/astropy/coordinates/baseframe.py\u001b[0m in \u001b[0;36mtransform_to\u001b[0;34m(self, new_frame)\u001b[0m\n\u001b[1;32m   1183\u001b[0m                 \u001b[0;32mreturn\u001b[0m \u001b[0mnew_frame\u001b[0m\u001b[0;34m.\u001b[0m\u001b[0mrealize_frame\u001b[0m\u001b[0;34m(\u001b[0m\u001b[0mself\u001b[0m\u001b[0;34m.\u001b[0m\u001b[0mdata\u001b[0m\u001b[0;34m)\u001b[0m\u001b[0;34m\u001b[0m\u001b[0m\n\u001b[1;32m   1184\u001b[0m             \u001b[0mmsg\u001b[0m \u001b[0;34m=\u001b[0m \u001b[0;34m'Cannot transform from {0} to {1}'\u001b[0m\u001b[0;34m\u001b[0m\u001b[0m\n\u001b[0;32m-> 1185\u001b[0;31m             \u001b[0;32mraise\u001b[0m \u001b[0mConvertError\u001b[0m\u001b[0;34m(\u001b[0m\u001b[0mmsg\u001b[0m\u001b[0;34m.\u001b[0m\u001b[0mformat\u001b[0m\u001b[0;34m(\u001b[0m\u001b[0mself\u001b[0m\u001b[0;34m.\u001b[0m\u001b[0m__class__\u001b[0m\u001b[0;34m,\u001b[0m \u001b[0mnew_frame\u001b[0m\u001b[0;34m.\u001b[0m\u001b[0m__class__\u001b[0m\u001b[0;34m)\u001b[0m\u001b[0;34m)\u001b[0m\u001b[0;34m\u001b[0m\u001b[0m\n\u001b[0m\u001b[1;32m   1186\u001b[0m         \u001b[0;32mreturn\u001b[0m \u001b[0mtrans\u001b[0m\u001b[0;34m(\u001b[0m\u001b[0mself\u001b[0m\u001b[0;34m,\u001b[0m \u001b[0mnew_frame\u001b[0m\u001b[0;34m)\u001b[0m\u001b[0;34m\u001b[0m\u001b[0m\n\u001b[1;32m   1187\u001b[0m \u001b[0;34m\u001b[0m\u001b[0m\n",
      "\u001b[0;31mConvertError\u001b[0m: Cannot transform from <class 'astropy.coordinates.builtin_frames.altaz.AltAz'> to <class 'str'>"
     ]
    }
   ],
   "source": [
    "gal_coord=g0.transform_to('galactic')"
   ]
  },
  {
   "cell_type": "code",
   "execution_count": null,
   "metadata": {},
   "outputs": [],
   "source": []
  }
 ],
 "metadata": {
  "kernelspec": {
   "display_name": "Python 3",
   "language": "python",
   "name": "python3"
  },
  "language_info": {
   "codemirror_mode": {
    "name": "ipython",
    "version": 3
   },
   "file_extension": ".py",
   "mimetype": "text/x-python",
   "name": "python",
   "nbconvert_exporter": "python",
   "pygments_lexer": "ipython3",
   "version": "3.6.5"
  }
 },
 "nbformat": 4,
 "nbformat_minor": 2
}
