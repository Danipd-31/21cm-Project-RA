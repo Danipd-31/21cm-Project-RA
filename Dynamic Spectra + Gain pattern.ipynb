{
 "cells": [
  {
   "cell_type": "code",
   "execution_count": 4,
   "metadata": {},
   "outputs": [
    {
     "name": "stdout",
     "output_type": "stream",
     "text": [
      "Using matplotlib backend: MacOSX\n",
      "Populating the interactive namespace from numpy and matplotlib\n"
     ]
    }
   ],
   "source": [
    "%pylab\n",
    "%matplotlib inline\n",
    "import healpy as hp\n",
    "import time\n",
    "from astropy import units as u\n",
    "from astropy.coordinates import SkyCoord\n",
    "from astropy.coordinates import EarthLocation\n",
    "from astropy.time import Time\n",
    "from astropy.coordinates import AltAz\n",
    "from astropy.time import TimeDelta\n",
    "from astropy.coordinates import get_sun\n",
    "from functools import reduce"
   ]
  },
  {
   "cell_type": "markdown",
   "metadata": {},
   "source": [
    "### Frequency extrapolation"
   ]
  },
  {
   "cell_type": "code",
   "execution_count": 5,
   "metadata": {},
   "outputs": [
    {
     "name": "stdout",
     "output_type": "stream",
     "text": [
      "NSIDE = 512\n",
      "ORDERING = NESTED in fits file\n",
      "INDXSCHM = IMPLICIT\n"
     ]
    },
    {
     "name": "stderr",
     "output_type": "stream",
     "text": [
      "/Users/michellemora/anaconda3/lib/python3.6/site-packages/healpy/fitsfunc.py:371: UserWarning: No INDXSCHM keyword in header file : assume IMPLICIT\n",
      "  warnings.warn(\"No INDXSCHM keyword in header file : \" \"assume {}\".format(schm))\n"
     ]
    },
    {
     "name": "stdout",
     "output_type": "stream",
     "text": [
      "Ordering converted to RING\n"
     ]
    }
   ],
   "source": [
    "T_Hmap = hp.read_map(\"lambda_haslam408_dsds.fits\")  # read_map loads the first column"
   ]
  },
  {
   "cell_type": "markdown",
   "metadata": {},
   "source": [
    "    Temperature spectral index\n",
    "    \n",
    "$$\\alpha=-\\frac{log(T_1/T_2)}{log(\\nu_1/\\nu_2)}$$"
   ]
  },
  {
   "cell_type": "code",
   "execution_count": 6,
   "metadata": {},
   "outputs": [],
   "source": [
    "def T_freq(alpha,freq1,freq2,T1):\n",
    "    return T1*10**(alpha*log10(freq1/freq2))"
   ]
  },
  {
   "cell_type": "markdown",
   "metadata": {},
   "source": [
    "### Galactic longitude (l) and latitude (b)"
   ]
  },
  {
   "cell_type": "code",
   "execution_count": 145,
   "metadata": {},
   "outputs": [],
   "source": [
    "nside = hp.get_nside(T_Hmap)  #nside\n",
    "npix = hp.nside2npix(nside)   #number of pixels\n",
    "\n",
    "l, b = hp.pix2ang(nside, arange(npix), lonlat=True)   #(l, b) coordinates for each pixel\n",
    "g_coord=SkyCoord(l*u.deg, b*u.deg, frame='galactic')  "
   ]
  },
  {
   "cell_type": "markdown",
   "metadata": {},
   "source": [
    "### Time and location for horizontal coordinates "
   ]
  },
  {
   "cell_type": "code",
   "execution_count": 146,
   "metadata": {},
   "outputs": [],
   "source": [
    "Alma_loc = EarthLocation.of_site('ALMA')\n",
    "start_t=Time('2021-06-14T00:00:00',format='isot')\n",
    "\n",
    "times30=start_t + TimeDelta(30*60, format='sec')*linspace(0,48,48) #dt=30 min\n",
    "\n",
    "altaz30 = AltAz(location=Alma_loc, obstime=times30)"
   ]
  },
  {
   "cell_type": "markdown",
   "metadata": {},
   "source": [
    "### Dynamic Spectra\n",
    "\n",
    "Temperature matrix for the dynamic spectra\n",
    "\n",
    "$$T(\\nu,t)=\\begin{pmatrix}\n",
    "T(\\nu_1,t_m) & T(\\nu_2,t_m) & \\cdots & T(\\nu_n,t_m)\\\\ \n",
    " \\vdots &  \\vdots  &\\vdots & \\vdots  \\\\ \n",
    "T(\\nu_1,t_1) & T(\\nu_2,t_1) & \\cdots & T(\\nu_n,t_1)\n",
    "\\end{pmatrix}$$"
   ]
  },
  {
   "cell_type": "code",
   "execution_count": 108,
   "metadata": {},
   "outputs": [],
   "source": [
    "freqs1=arange(40,111,1)"
   ]
  },
  {
   "cell_type": "markdown",
   "metadata": {},
   "source": [
    "### Antenna gain"
   ]
  },
  {
   "cell_type": "code",
   "execution_count": 140,
   "metadata": {},
   "outputs": [],
   "source": [
    "g_cols=loadtxt('Gain_Blade_nominal_Raul_phi_0.dat',skiprows=2,usecols=arange(1,72))\n",
    "g_phi0=g_cols[90:]\n",
    "Theta=arange(0,91,1)"
   ]
  },
  {
   "cell_type": "markdown",
   "metadata": {},
   "source": [
    "### Script for the observations"
   ]
  },
  {
   "cell_type": "code",
   "execution_count": 141,
   "metadata": {},
   "outputs": [],
   "source": [
    "def Temps_gain(fs,ts):  \n",
    "    '''Takes frequencies (fs) and times in AltAz frame (ts) and returns the \n",
    "       Temperature and Gain matrix'''\n",
    "    \n",
    "    start = time.time()\n",
    "    Temps=zeros((ts.obstime.size,len(fs)))\n",
    "    Gains=zeros((ts.obstime.size,len(fs))) \n",
    "    \n",
    "    for i in range (ts.obstime.size):\n",
    "        aa_coord=g_coord.transform_to(ts[i])      #Galactic to Altaz\n",
    "        mask=argwhere(aa_coord.alt>0)             #Only coordinates above the horizon\n",
    "        T_sky=T_Hmap[mask]                        #Only those temperatures\n",
    "        \n",
    "        Th=((90*u.deg-(aa_coord.alt[mask]))/(1*u.deg))    ##Thetas to use\n",
    "        \n",
    "        for j in range (len(fs)):\n",
    "            T_f=T_freq(2.54,408,fs[j],T_sky)      #Extrapolation\n",
    "            Temps[-i,j]=mean(T_f)                 #Mean temperature (bottom to top)\n",
    "            \n",
    "            gs=g_phi0[Th.value.astype(int),j]     ##Gains for Th to use and freq_j\n",
    "            Gains[-i,j]=mean(gs)                  ##Mean gain (bottom to top)\n",
    "            \n",
    "            \n",
    "    end = time.time()\n",
    "    print('Tiempo recorrido(s):',end - start)  \n",
    "    return Temps,Gains"
   ]
  },
  {
   "cell_type": "code",
   "execution_count": 142,
   "metadata": {},
   "outputs": [
    {
     "name": "stderr",
     "output_type": "stream",
     "text": [
      "WARNING: failed to download http://maia.usno.navy.mil/ser7/finals2000A.all and http://toshi.nofs.navy.mil/ser7/finals2000A.all, using local IERS-B: <urlopen error [Errno 8] nodename nor servname provided, or not known. requested URL: http://maia.usno.navy.mil/ser7/finals2000A.all>;<urlopen error [Errno 8] nodename nor servname provided, or not known. requested URL: http://toshi.nofs.navy.mil/ser7/finals2000A.all> [astropy.utils.iers.iers]\n",
      "WARNING: Tried to get polar motions for times after IERS data is valid. Defaulting to polar motion from the 50-yr mean for those. This may affect precision at the 10s of arcsec level [astropy.coordinates.builtin_frames.utils]\n",
      "WARNING: (some) times are outside of range covered by IERS table. Assuming UT1-UTC=0 for coordinate transformations. [astropy.coordinates.builtin_frames.utils]\n"
     ]
    },
    {
     "name": "stdout",
     "output_type": "stream",
     "text": [
      "Tiempo recorrido(s): 290.72297406196594\n"
     ]
    }
   ],
   "source": [
    "T,G=Temps_gain(freqs1,altaz30)"
   ]
  },
  {
   "cell_type": "code",
   "execution_count": 150,
   "metadata": {},
   "outputs": [],
   "source": [
    "T_G=T*G   #Dynamic Spectra + Gain pattern"
   ]
  },
  {
   "cell_type": "code",
   "execution_count": 152,
   "metadata": {},
   "outputs": [
    {
     "data": {
      "text/plain": [
       "Text(0.5,0,'freq (MHz)')"
      ]
     },
     "execution_count": 152,
     "metadata": {},
     "output_type": "execute_result"
    },
    {
     "data": {
      "image/png": "[encoded data removed]",
      "text/plain": [
       "<Figure size 1296x504 with 6 Axes>"
      ]
     },
     "metadata": {},
     "output_type": "display_data"
    }
   ],
   "source": [
    "figure(figsize=(18,7))\n",
    "subplot(1,3,1)\n",
    "pcolormesh(freqs1,times30.to_datetime(), G,cmap='gnuplot2')\n",
    "colorbar(label='Gain',orientation=\"horizontal\")\n",
    "title(\"Gain pattern\"),xlabel('freq (MHz)')\n",
    "subplot(1,3,2)\n",
    "pcolormesh(freqs1,times30.to_datetime(), T,cmap='gnuplot2')\n",
    "colorbar(label='T(K)',orientation=\"horizontal\")\n",
    "title(\"Without gain pattern (dfreq=1 MHz, dt=30 min)\"),xlabel('freq (MHz)')\n",
    "subplot(1,3,3)\n",
    "pcolormesh(freqs1,times30.to_datetime(), T_G,cmap='gnuplot2')\n",
    "colorbar(label='T(K)',orientation=\"horizontal\")\n",
    "title(\"With gain pattern (dfreq=1 MHz, dt=30 min)\")\n",
    "xlabel('freq (MHz)')"
   ]
  },
  {
   "cell_type": "code",
   "execution_count": null,
   "metadata": {},
   "outputs": [],
   "source": []
  },
  {
   "cell_type": "code",
   "execution_count": null,
   "metadata": {},
   "outputs": [],
   "source": []
  },
  {
   "cell_type": "code",
   "execution_count": null,
   "metadata": {},
   "outputs": [],
   "source": []
  }
 ],
 "metadata": {
  "kernelspec": {
   "display_name": "Python 3",
   "language": "python",
   "name": "python3"
  },
  "language_info": {
   "codemirror_mode": {
    "name": "ipython",
    "version": 3
   },
   "file_extension": ".py",
   "mimetype": "text/x-python",
   "name": "python",
   "nbconvert_exporter": "python",
   "pygments_lexer": "ipython3",
   "version": "3.6.5"
  }
 },
 "nbformat": 4,
 "nbformat_minor": 2
}
