{
 "cells": [
  {
   "cell_type": "code",
   "execution_count": 1,
   "id": "e5ae62ee-73a0-42ae-ba80-39576fc969fa",
   "metadata": {},
   "outputs": [
    {
     "name": "stdout",
     "output_type": "stream",
     "text": [
      "Using matplotlib backend: module://ipympl.backend_nbagg\n",
      "Populating the interactive namespace from numpy and matplotlib\n"
     ]
    }
   ],
   "source": [
    "%matplotlib widget\n",
    "%pylab\n",
    "import matplotlib.pyplot as plt\n",
    "import time\n",
    "from astropy import units as u\n",
    "from astropy.coordinates import SkyCoord\n",
    "from astropy.coordinates import EarthLocation\n",
    "from astropy.time import Time\n",
    "from astropy.coordinates import AltAz\n",
    "from astropy.time import TimeDelta\n",
    "from astropy.coordinates import get_sun\n",
    "from functools import reduce\n",
    "import pandas as pd\n",
    "from tqdm import tqdm"
   ]
  },
  {
   "cell_type": "markdown",
   "id": "2106fec0",
   "metadata": {},
   "source": [
    "# Simulation Functions\n",
    "\n",
    "This notebook has all the functions used for making the $\\textbf{Simulations of the Radio Averaged Sky}$.\n",
    "\n",
    "The array from the Haslam Temperature Map (Haslam et al., 1982) must be called $\\textbf{T_Hmap}$ for the code to work.  \n",
    "\n",
    "\n",
    "### Contents:\n",
    "1. [Frequency extrapolation](#T_freq)\n",
    "2. [Antenna gain files](#Gainfiles)\n",
    "3. [G Matrix](#GMatrix)\n",
    "4. [Dynamic Spectra](#DS)\n",
    "5. [Dynamic Spectra with gain pattern](#DSG)\n",
    "6. [Dynamic Spectra for different latitudes](#DSGLat)\n",
    "7. [Best times for observing](#TObs)\n",
    "8. [Galactic Coordinates of the Cenit](#GalCoord)\n",
    "9. [Simulation of the Sky Temperature extrapolated to a frequency](#SimTsky)"
   ]
  },
  {
   "cell_type": "markdown",
   "id": "0572c007-df00-494a-9968-9e5822ebd801",
   "metadata": {},
   "source": [
    "## 1. Frequency extrapolation <a class=\"anchor\" id=\"T_freq\"></a>"
   ]
  },
  {
   "cell_type": "markdown",
   "id": "83d7f1ee-02a8-467a-b8df-006c9a1eee8c",
   "metadata": {},
   "source": [
    "The Temperature spectral index is defined by:\n",
    "    \n",
    "$$\\alpha=-\\frac{log(T_1/T_2)}{log(\\nu_1/\\nu_2)}$$\n",
    "\n",
    "The function $\\textbf{T_freq}$ will extrapolate the temperature of the sky to a given frequency using this equation."
   ]
  },
  {
   "cell_type": "code",
   "execution_count": 1,
   "id": "80ad5b6b-223b-4574-8faf-c029dcecf88a",
   "metadata": {},
   "outputs": [],
   "source": [
    "def T_freq(alpha,freq1,freq2,T1):\n",
    "    '''Takes spectral index (alpha), initial frequency (freq1) and its tempetature (T1), and\n",
    "       the desired frequency for extrapolation (freq2). Returns the Temperature extrapolation for that frequency'''\n",
    "    \n",
    "    return T1*10**(alpha*log10(freq1/freq2))"
   ]
  },
  {
   "cell_type": "markdown",
   "id": "77700b6c-0a97-41f8-b608-f7c60a4f6960",
   "metadata": {
    "tags": []
   },
   "source": [
    "## 2. Antenna gain files <a class=\"anchor\" id=\"Gainfiles\"></a>\n",
    "\n",
    "The Gain files must be in this order:\n",
    "\n",
    "$$g_{\\nu}=g_{\\nu}(\\theta,\\phi)$$\n",
    "\n",
    "$$g_{\\nu}(\\theta,\\phi)=\\begin{pmatrix}\n",
    "g_{\\nu}(\\theta=0,\\phi=0) & g_{\\nu}(\\theta=0,\\phi=1) & \\cdots & g_{\\nu}(\\theta=0,\\phi=359)\\\\ \n",
    "g_{\\nu}(\\theta=1,\\phi=0) & g_{\\nu}(\\theta=1,\\phi=1) & \\cdots & g_{\\nu}(\\theta=1,\\phi=359)\\\\\n",
    " \\vdots &  \\vdots  &\\vdots & \\vdots  \\\\ \n",
    "g_{\\nu}(\\theta=90,\\phi=0) & g_{\\nu}(\\theta=90,\\phi=1) & \\cdots & g_{\\nu}(\\theta=90,\\phi=359)\\\\\n",
    "\\end{pmatrix}$$\n",
    "\n",
    "\n",
    "This commented code will help to organize the files if they're not in this order."
   ]
  },
  {
   "cell_type": "code",
   "execution_count": 2,
   "id": "8dc5aa1b-dd16-43be-bd30-61168d24386c",
   "metadata": {},
   "outputs": [],
   "source": [
    "#Sort files in right order\n",
    "#This is only necessary when the files have text or are in the wrong order.\n",
    "\n",
    "#for i in range (0,len(f)):\n",
    "#    file='{}{}{}{}'.format(path_B,'\\Gain_phi_theta_', f[i], \"MHz.csv\")\n",
    "#    x=loadtxt(file, skiprows=1,delimiter=',')   #Theta[0:]\n",
    "#    #new=concatenate((x[:91,181:],x[:91,2:181]),axis=1)       ###Theta[0,90],phi[0,359]\n",
    "#    savetxt('{}{}{}.txt'.format(path_B,'\\Gain_B_',f[i]), x[:,1:361])"
   ]
  },
  {
   "cell_type": "markdown",
   "id": "7b3274bd-3f12-4a3d-952d-d45c41195915",
   "metadata": {},
   "source": [
    "## 3. $G[\\nu,\\theta,\\phi]$ Matrix <a class=\"anchor\" id=\"GMatrix\"></a>\n",
    "\n",
    "The $G[\\nu,\\theta,\\phi]$ will be a matrix of matrices that will store the Gain Pattern of each point in the sky ($\\theta,\\phi$) for each frequency $\\nu$. This matrix will decrease the time of computation for the Dynamic Spectra.\n",
    "\n",
    "\n",
    "$$G[\\nu,\\theta,\\phi]=\\begin{bmatrix}\n",
    "\\begin{bmatrix}\n",
    "g_{\\nu_0}(\\theta,\\phi)\n",
    "\\end{bmatrix}\\\\ \n",
    "\\begin{bmatrix}\n",
    "g_{\\nu_1}(\\theta,\\phi)\n",
    "\\end{bmatrix}\\\\ \n",
    "\\vdots \\\\ \n",
    "\\begin{bmatrix}\n",
    "g_{\\nu_m}(\\theta,\\phi)\n",
    "\\end{bmatrix}\\\\ \n",
    "\\end{bmatrix}$$\n",
    "\n",
    "Where \n",
    "\n",
    "$$g_{\\nu_n}(\\theta,\\phi)=\\begin{pmatrix}\n",
    "g_{\\nu}(\\theta=0,\\phi=0) & g_{\\nu}(\\theta=0,\\phi=1) & \\cdots & g_{\\nu}(\\theta=0,\\phi=359)\\\\ \n",
    "g_{\\nu}(\\theta=1,\\phi=0) & g_{\\nu}(\\theta=1,\\phi=1) & \\cdots & g_{\\nu}(\\theta=1,\\phi=359)\\\\\n",
    " \\vdots &  \\vdots  &\\vdots & \\vdots  \\\\ \n",
    "g_{\\nu}(\\theta=90,\\phi=0) & g_{\\nu}(\\theta=90,\\phi=1) & \\cdots & g_{\\nu}(\\theta=90,\\phi=359)\\\\\n",
    "\\end{pmatrix}$$\n",
    "\n",
    "The function $\\textbf{G_matrix}$ will organize the gain matrix using the antenna files in the right order."
   ]
  },
  {
   "cell_type": "code",
   "execution_count": 3,
   "id": "44faf0f3-05f6-4487-ade4-7dcd7202d4ec",
   "metadata": {},
   "outputs": [],
   "source": [
    "def G_matrix(path,name,size):\n",
    "    '''Takes the path and name of the Gain File, and the number of files for the frequencies (size).\n",
    "       Returns the G[nu,theta,phi] matrix, normalized to the maximum value'''\n",
    "\n",
    "    G_FTP=empty((size,91,360))\n",
    "\n",
    "    for i in range (size):\n",
    "        file='{}{}{}.txt'.format(path,name, f[i])\n",
    "        x=loadtxt(file)\n",
    "        G_FTP[i]=x\n",
    "\n",
    "    return G_FTP/amax(G_FTP)    #NORMALIZED to the maximum gain value"
   ]
  },
  {
   "cell_type": "markdown",
   "id": "d2d0df76",
   "metadata": {},
   "source": [
    "## 4. Dynamic Spectra <a class=\"anchor\" id=\"DS\"></a>\n",
    "\n",
    "Averaged temperature matrix for the dynamic spectra of an Isotropic Antenna.\n",
    "\n",
    "$$T(\\nu,t)=\\begin{pmatrix}\n",
    "T(\\nu_1,t_m) & T(\\nu_2,t_m) & \\cdots & T(\\nu_n,t_m)\\\\ \n",
    " \\vdots &  \\vdots  &\\vdots & \\vdots  \\\\ \n",
    "T(\\nu_1,t_1) & T(\\nu_2,t_1) & \\cdots & T(\\nu_n,t_1)\n",
    "\\end{pmatrix}$$\n",
    "\n",
    "The function $\\textbf{DS}$ will give us the Averaged temperature matrix for the dynamic spectra of an Isotropic Antenna using the Haslam map $\\textbf{T_Hmap}$."
   ]
  },
  {
   "cell_type": "code",
   "execution_count": 3,
   "id": "220e62e7",
   "metadata": {},
   "outputs": [],
   "source": [
    "def DS(fs,ts,alpha):  \n",
    "    '''Takes frequencies (fs) and times in AltAz frame (ts) and returns the Temperature matrix'''\n",
    " \n",
    "    Temps_g=zeros((ts.obstime.size,len(fs)))      #Temperature + Gain Matrix (Empty first)\n",
    "    \n",
    "    for i in tqdm(range (ts.obstime.size)):  \n",
    "    \n",
    "        aa_coord=g_coord.transform_to(ts[i])      #Galactic Coords of Haslam Map to Altaz Coords\n",
    "        mask=argwhere(aa_coord.alt>0)             #Only coordinates above the horizon\n",
    "        T_sky=T_Hmap[mask]                        #Only those temperatures\n",
    "        \n",
    "        for j in range (len(fs)): \n",
    "            T_f=T_freq(alpha,408,fs[j],T_sky)      #Temperature Extrapolation\n",
    "            \n",
    "            Temps_g[i,j]=mean(T_f)                #Mean temperature of the sky\n",
    "\n",
    "    return Temps_g"
   ]
  },
  {
   "cell_type": "markdown",
   "id": "a42431a6",
   "metadata": {},
   "source": [
    "## 5. Dynamic Spectra with gain pattern $G[\\nu,\\theta,\\phi]$ <a class=\"anchor\" id=\"DSG\"></a>\n",
    "\n",
    "The function $\\textbf{DS_G}$ will return the Averaged temperature matrix for the Dynamic Spectra of an Antenna with a Gain Pattern given by $G[\\nu,\\theta,\\phi]$.\n",
    "\n",
    "$$T(\\nu,t)=\\begin{pmatrix}\n",
    "T(\\nu_1,t_1) & T(\\nu_2,t_1) & \\cdots & T(\\nu_n,t_1)\\\\ \n",
    " \\vdots &  \\vdots  &\\vdots & \\vdots  \\\\ \n",
    "T(\\nu_1,t_m) & T(\\nu_2,t_m) & \\cdots & T(\\nu_n,t_m)\n",
    "\\end{pmatrix}$$\n",
    "\n",
    "Where $T(\\nu_n,t_m)$ is the average temperature of the sky for the frequency $\\nu_n$ and the time $t_m$, corrected for the beam with the $G[\\nu,\\theta,\\phi]$ matrix."
   ]
  },
  {
   "cell_type": "code",
   "execution_count": 2,
   "id": "a3d6c8b9",
   "metadata": {},
   "outputs": [],
   "source": [
    "def DS_G(fs,ts,alfa,G_n):  \n",
    "    '''Takes frequencies (fs), times in AltAz frame (ts), the spectral index (alpha), and the G[nu,theta,phi] matrix (G_n). \n",
    "       Returns the Temperature + Gain matrix (Dinamic Spectra)'''\n",
    "    \n",
    "    Temps_g=zeros((ts.obstime.size,len(fs)))      #Temperature + Gain Matrix (Empty first)\n",
    "    \n",
    "    for i in tqdm(range (ts.obstime.size)):  \n",
    "    \n",
    "        aa_coord=g_coord.transform_to(ts[i])      #Galactic Coords of Haslam Map to Altaz Coords\n",
    "        mask=argwhere(aa_coord.alt>0)             #Only coordinates above the horizon\n",
    "        T_sky=T_Hmap[mask]                        #Only those temperatures\n",
    "        \n",
    "        Th=np.round((90*u.deg-(aa_coord.alt[mask]))/(1*u.deg))    #Thetas to use in same order as Tsky\n",
    "        Th=Th.value.astype(int)                                   #Int value (dTheta=1deg)\n",
    "        \n",
    "        phi=aa_coord.az[mask]                                     #phi's==azimuth\n",
    "        phi=phi.value.astype(int)                                 #Int value (dphi=1deg)\n",
    "        \n",
    "        for j in range (len(fs)): \n",
    "            T_f=T_freq(alfa,408,fs[j],T_sky)                #Temperature Extrapolation\n",
    "            \n",
    "            gain=G_n[j,Th,phi]/mean(G_n[j,Th,phi])          #Gains of Th and phi in same order as Tsky  \n",
    "            \n",
    "            T_f_g=gain*T_f                                  #New T_sky with respective gain (Beam Correction)\n",
    "            Temps_g[i,j]=mean(T_f_g)                        #Mean temperature\n",
    "\n",
    "         \n",
    "    return Temps_g"
   ]
  },
  {
   "cell_type": "markdown",
   "id": "de638903",
   "metadata": {},
   "source": [
    "## 6. Dynamic Spectra for different latitudes <a class=\"anchor\" id=\"DSGLat\"></a>\n",
    "\n",
    "For a given time the Dynamic Spectra will change for different latitudes. This function will calculate the Dynamic Spectra corrected by the beam of the sky at a given time for an array of latitudes."
   ]
  },
  {
   "cell_type": "code",
   "execution_count": 6,
   "id": "ae6f1d39",
   "metadata": {},
   "outputs": [],
   "source": [
    "def DS_G_Lat(fs,t,alfa,G_n,Locs):  \n",
    "    '''Takes frequencies (fs), time (t), the spectral index (alpha), the G[nu,theta,phi] matrix (G_n) and the Locations for\n",
    "       the Dynamic Spectra. Returns the Temperature + Gain matrix (Dynamic Spectra) for those latitudes.'''\n",
    "\n",
    "    Temps_g=zeros((Locs.size,len(fs)))      #Temperature + Gain Matrix (Empty first)\n",
    "    \n",
    "    for i in tqdm(range (Locs.size)):  \n",
    "        \n",
    "        altaz_t = AltAz(location=Locs[i], obstime=t)\n",
    "    \n",
    "        aa_coord=g_coord.transform_to(altaz_t)    #Galactic Coords of Haslam Map to Altaz Coords\n",
    "        mask=argwhere(aa_coord.alt>0)             #Only coordinates above the horizon\n",
    "        T_sky=T_Hmap[mask]                        #Only those temperatures\n",
    "        \n",
    "        Th=np.round((90*u.deg-(aa_coord.alt[mask]))/(1*u.deg))    #Thetas to use in same order as Tsky\n",
    "        Th=Th.value.astype(int)                                   #Int value (dTheta=1deg)\n",
    "        \n",
    "        phi=aa_coord.az[mask]                                     #phi's==azimuth\n",
    "        phi=phi.value.astype(int)                                 #Int value (dphi=1deg)\n",
    "        \n",
    "        for j in range (len(fs)): \n",
    "            T_f=T_freq(alfa,408,fs[j],T_sky)                #Temperature Extrapolation\n",
    "            \n",
    "            gain=G_n[j,Th,phi]/mean(G_n[j,Th,phi])          #Gains of Th and phi in same order as Tsky  \n",
    "            \n",
    "            T_f_g=gain*T_f                                  #New T_sky with respective gain (Beam Correction)\n",
    "            Temps_g[i,j]=mean(T_f_g)                        #Mean temperature\n",
    "         \n",
    "    return Temps_g"
   ]
  },
  {
   "cell_type": "markdown",
   "id": "a07ad8c0",
   "metadata": {},
   "source": [
    "## 7. Best times for observing <a class=\"anchor\" id=\"TObs\"></a>\n",
    "\n",
    "We are interested in taking measurements of a mostly structureless sky. Because of this, the best times for observing will be when the center of the galaxy is not above the horizon.\n",
    "\n",
    "The function $\\textbf{obs}$ will give the hours of the day when is best to observe. We consider only the hours when we can't see from -45 to 45 degrees in galactic longitude above the horizon."
   ]
  },
  {
   "cell_type": "code",
   "execution_count": 7,
   "id": "92cce58c",
   "metadata": {},
   "outputs": [],
   "source": [
    "def obs(t0,days):\n",
    "    '''Takes start date (t0) and the number of days of the observation (days).\n",
    "       Returns best times for observing (dates, start time and the end time)'''\n",
    "    \n",
    "    #Galactic coordinates\n",
    "    g0=SkyCoord(0*u.deg, 0*u.deg, frame='galactic')    #galactic center\n",
    "    g6=SkyCoord(45*u.deg, 0*u.deg, frame='galactic') \n",
    "    g18=SkyCoord(-45*u.deg, 0*u.deg, frame='galactic')\n",
    "    \n",
    "    #Days\n",
    "    t100=t0 + TimeDelta(30*60, format='sec')*linspace(0,48*days,48*days) #dt=30 min, t=#days\n",
    "    altaz100 = AltAz(location=Alma_loc, obstime=t100)\n",
    "    \n",
    "    #Altaz coordinates\n",
    "    g0_aa=g0.transform_to(altaz100)\n",
    "    g6_aa=g6.transform_to(altaz100)\n",
    "    g18_aa=g18.transform_to(altaz100)\n",
    "    \n",
    "    #Ok to observe when galaxy center below the horizon\n",
    "    ok=reduce(intersect1d,(argwhere(g6_aa.alt<0),(argwhere(g0_aa.alt<0)),\n",
    "                           argwhere(g18_aa.alt<0)))\n",
    "    \n",
    "    #Dates for observing\n",
    "    from_=array([t100[ok[0]].to_datetime().hour])\n",
    "    to_=array([])\n",
    "    dates=array([t100[ok[0]].to_datetime()])\n",
    "    for i in range(len(ok)-1):\n",
    "        if ok[i+1]!=(ok[i]+1):\n",
    "            from_=append(from_,t100[ok[i+1]].to_datetime().hour)\n",
    "            to_=append(to_,t100[ok[i]].to_datetime().hour)\n",
    "            dates=append(dates,t100[ok[i]].to_datetime())\n",
    "    to_=append(to_,t100[ok[-1]])\n",
    "    \n",
    "    return dates,from_,to_"
   ]
  },
  {
   "cell_type": "markdown",
   "id": "e58fc06c",
   "metadata": {},
   "source": [
    "## 8. Galactic Coordinates of the Zenith <a class=\"anchor\" id=\"GalCoord\"></a>\n",
    "\n",
    "The function $\\textbf{GalCoord_Cenit}$ will give us the Galactic coordinates of the zenith at certain times."
   ]
  },
  {
   "cell_type": "code",
   "execution_count": 8,
   "id": "31d204a4",
   "metadata": {},
   "outputs": [],
   "source": [
    "def GalCoord_Cenit(Earthloc,times):\n",
    "    '''Takes the Antenna location and the times for observations.\n",
    "       Returns galactic coordinates for the cenit'''\n",
    "    \n",
    "    galcoords=array([])\n",
    "    \n",
    "    for i in tqdm(range (len(times))):\n",
    "        \n",
    "        altaz = SkyCoord(alt=90*u.deg, az =0*u.rad, obstime=times[i], frame='altaz', location=Earthloc) #Cenit AltAz Coordinates\n",
    "        \n",
    "        galcoords=append(galcoords,altaz.galactic) #Transform to galactic and save\n",
    "    \n",
    "    return galcoords"
   ]
  },
  {
   "cell_type": "markdown",
   "id": "b114d334",
   "metadata": {},
   "source": [
    "## 9. Simulation of the Sky Temperature extrapolated to a frequency <a class=\"anchor\" id=\"SimTsky\"></a>\n",
    "\n",
    "The function $\\textbf{Sim_Tsky}$ will give us the Sky temperature simulation with the associated coordinates extrapolated to a certain frequency from the Haslam Map."
   ]
  },
  {
   "cell_type": "code",
   "execution_count": 1,
   "id": "3cd1f3f9",
   "metadata": {},
   "outputs": [],
   "source": [
    "def Sim_Tsky(freq,ts,alpha):  \n",
    "    '''Takes frequencies (fs), times in AltAz frame (ts), the spectral index (alpha). \n",
    "       Returns the Simulation of the Sky Temperature (T_sky) extrapolated to a frequency and its coordinates (alt) and (az)'''\n",
    "    \n",
    "    T_Hmap_freq=T_freq(alpha,408,freq,T_Hmap)  #Extrapolation of the Haslam Map to (freq)\n",
    "    \n",
    "    aa_coord=g_coord.transform_to(ts)          #Galactic Coords of Haslam Map to Altaz Coords\n",
    "    \n",
    "    mask=argwhere(aa_coord.alt.value>-0.2)     #Only coordinates above the horizon\n",
    "    \n",
    "    T_sky=T_Hmap_freq[mask]                    #Sky Temperature\n",
    "        \n",
    "    alt=aa_coord.alt.value[mask]               #Alt coordinate\n",
    "    \n",
    "    az=aa_coord.az.value[mask]                 #Az coordinate\n",
    "         \n",
    "    return alt,az,T_sky"
   ]
  },
  {
   "cell_type": "code",
   "execution_count": null,
   "id": "ebbf2bc3",
   "metadata": {},
   "outputs": [],
   "source": []
  }
 ],
 "metadata": {
  "kernelspec": {
   "display_name": "Python 3 (ipykernel)",
   "language": "python",
   "name": "python3"
  },
  "language_info": {
   "codemirror_mode": {
    "name": "ipython",
    "version": 3
   },
   "file_extension": ".py",
   "mimetype": "text/x-python",
   "name": "python",
   "nbconvert_exporter": "python",
   "pygments_lexer": "ipython3",
   "version": "3.9.7"
  }
 },
 "nbformat": 4,
 "nbformat_minor": 5
}
