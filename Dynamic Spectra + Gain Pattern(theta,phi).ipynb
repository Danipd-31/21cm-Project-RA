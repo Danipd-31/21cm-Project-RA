{
 "cells": [
  {
   "cell_type": "code",
   "execution_count": 1,
   "metadata": {},
   "outputs": [
    {
     "name": "stdout",
     "output_type": "stream",
     "text": [
      "Using matplotlib backend: MacOSX\n",
      "Populating the interactive namespace from numpy and matplotlib\n"
     ]
    }
   ],
   "source": [
    "%pylab\n",
    "%matplotlib inline\n",
    "import healpy as hp\n",
    "import time\n",
    "from astropy import units as u\n",
    "from astropy.coordinates import SkyCoord\n",
    "from astropy.coordinates import EarthLocation\n",
    "from astropy.time import Time\n",
    "from astropy.coordinates import AltAz\n",
    "from astropy.time import TimeDelta\n",
    "from astropy.coordinates import get_sun\n",
    "from functools import reduce\n",
    "import pandas as pd"
   ]
  },
  {
   "cell_type": "markdown",
   "metadata": {},
   "source": [
    "### Frequency extrapolation"
   ]
  },
  {
   "cell_type": "code",
   "execution_count": 2,
   "metadata": {},
   "outputs": [],
   "source": [
    "path_new='/Users/michellemora/Documents/Universidad/9/Germanchou/Gain_MIST/Gains-'\n",
    "path='/Users/michellemora/Documents/Universidad/9/Germanchou/Gain_MIST_Oscar/Gain_theta_phi_'"
   ]
  },
  {
   "cell_type": "code",
   "execution_count": 3,
   "metadata": {},
   "outputs": [
    {
     "name": "stdout",
     "output_type": "stream",
     "text": [
      "NSIDE = 512\n",
      "ORDERING = NESTED in fits file\n",
      "INDXSCHM = IMPLICIT\n"
     ]
    },
    {
     "name": "stderr",
     "output_type": "stream",
     "text": [
      "/Users/michellemora/anaconda3/lib/python3.6/site-packages/healpy/fitsfunc.py:371: UserWarning: No INDXSCHM keyword in header file : assume IMPLICIT\n",
      "  warnings.warn(\"No INDXSCHM keyword in header file : \" \"assume {}\".format(schm))\n"
     ]
    },
    {
     "name": "stdout",
     "output_type": "stream",
     "text": [
      "Ordering converted to RING\n"
     ]
    }
   ],
   "source": [
    "T_Hmap = hp.read_map(\"lambda_haslam408_dsds.fits\")  "
   ]
  },
  {
   "cell_type": "markdown",
   "metadata": {},
   "source": [
    "Temperature spectral index\n",
    "    \n",
    "$$\\alpha=-\\frac{log(T_1/T_2)}{log(\\nu_1/\\nu_2)}$$"
   ]
  },
  {
   "cell_type": "code",
   "execution_count": 4,
   "metadata": {},
   "outputs": [],
   "source": [
    "def T_freq(alpha,freq1,freq2,T1):\n",
    "    return T1*10**(alpha*log10(freq1/freq2))"
   ]
  },
  {
   "cell_type": "markdown",
   "metadata": {},
   "source": [
    "### Galactic longitude (l) and latitude (b)"
   ]
  },
  {
   "cell_type": "code",
   "execution_count": 5,
   "metadata": {},
   "outputs": [],
   "source": [
    "nside = hp.get_nside(T_Hmap)  #nside\n",
    "npix = hp.nside2npix(nside)   #number of pixels\n",
    "\n",
    "l, b = hp.pix2ang(nside, arange(npix), lonlat=True)   #(l, b) coordinates for each pixel\n",
    "g_coord=SkyCoord(l*u.deg, b*u.deg, frame='galactic')  "
   ]
  },
  {
   "cell_type": "markdown",
   "metadata": {},
   "source": [
    "### Time and location for horizontal coordinates "
   ]
  },
  {
   "cell_type": "code",
   "execution_count": 6,
   "metadata": {},
   "outputs": [],
   "source": [
    "Alma_loc = EarthLocation.of_site('ALMA')\n",
    "start_t=Time('2021-06-14T00:00:00',format='isot')\n",
    "\n",
    "times30=start_t + TimeDelta(30*60, format='sec')*linspace(0,48,48) #dt=30 min\n",
    "\n",
    "altaz30 = AltAz(location=Alma_loc, obstime=times30)"
   ]
  },
  {
   "cell_type": "markdown",
   "metadata": {},
   "source": [
    "### Dynamic Spectra\n",
    "\n",
    "Temperature matrix for the dynamic spectra\n",
    "\n",
    "$$T(\\nu,t)=\\begin{pmatrix}\n",
    "T(\\nu_1,t_m) & T(\\nu_2,t_m) & \\cdots & T(\\nu_n,t_m)\\\\ \n",
    " \\vdots &  \\vdots  &\\vdots & \\vdots  \\\\ \n",
    "T(\\nu_1,t_1) & T(\\nu_2,t_1) & \\cdots & T(\\nu_n,t_1)\n",
    "\\end{pmatrix}$$"
   ]
  },
  {
   "cell_type": "markdown",
   "metadata": {},
   "source": [
    "### Antenna gain files\n",
    "\n",
    "$$g_{\\nu}=g_{\\nu}(\\theta,\\phi)$$\n",
    "\n",
    "$$g_{\\nu}(\\theta,\\phi)=\\begin{pmatrix}\n",
    "g_{\\nu}(\\theta=0,\\phi=0) & g_{\\nu}(\\theta=0,\\phi=1) & \\cdots & g_{\\nu}(\\theta=0,\\phi=359)\\\\ \n",
    "g_{\\nu}(\\theta=1,\\phi=0) & g_{\\nu}(\\theta=1,\\phi=1) & \\cdots & g_{\\nu}(\\theta=1,\\phi=359)\\\\\n",
    " \\vdots &  \\vdots  &\\vdots & \\vdots  \\\\ \n",
    "g_{\\nu}(\\theta=90,\\phi=0) & g_{\\nu}(\\theta=90,\\phi=1) & \\cdots & g_{\\nu}(\\theta=90,\\phi=359)\\\\\n",
    "\\end{pmatrix}$$"
   ]
  },
  {
   "cell_type": "code",
   "execution_count": 7,
   "metadata": {},
   "outputs": [],
   "source": [
    "f=arange(40,121,1)"
   ]
  },
  {
   "cell_type": "markdown",
   "metadata": {},
   "source": [
    "### $G[\\nu,\\theta,\\phi]$ Matrix"
   ]
  },
  {
   "cell_type": "code",
   "execution_count": 8,
   "metadata": {},
   "outputs": [],
   "source": [
    "#Sort files in right order\n",
    "\n",
    "#for i in range (len(f)):\n",
    "#    file='{}{}{}'.format(path, f[i], \"MHz.csv\")\n",
    "#    x=loadtxt(file, skiprows=181,delimiter=',')   #Theta[0:]\n",
    "#    new=concatenate((x[:91,181:],x[:91,2:181]),axis=1) #Theta[0,90],phi[0,359]\n",
    "#    savetxt('{}-{}.txt'.format('Gains',f[i]), new)"
   ]
  },
  {
   "cell_type": "code",
   "execution_count": 9,
   "metadata": {},
   "outputs": [],
   "source": [
    "G_FTP=empty((len(f),91,360))\n",
    "\n",
    "for i in range (len(f)):\n",
    "    file='{}{}{}'.format(path_new, f[i], \".txt\")\n",
    "    x=loadtxt(file)\n",
    "    G_FTP[i]=x\n",
    "\n",
    "G_n=G_FTP/amax(G_FTP)    #Normalize to the maximum gain value"
   ]
  },
  {
   "cell_type": "code",
   "execution_count": 10,
   "metadata": {},
   "outputs": [
    {
     "data": {
      "text/plain": [
       "5.76021544300054"
      ]
     },
     "execution_count": 10,
     "metadata": {},
     "output_type": "execute_result"
    }
   ],
   "source": [
    "G_n[0]       #Primera matriz\n",
    "amax(G_n)    #Máximo de todas las matrices\n",
    "G_FTP[0,1,0] #Matriz 0 (primera frecuencia), theta=0, phi=1"
   ]
  },
  {
   "cell_type": "code",
   "execution_count": 11,
   "metadata": {},
   "outputs": [
    {
     "data": {
      "text/plain": [
       "array([0.57039743, 0.57001708, 0.56889871])"
      ]
     },
     "execution_count": 11,
     "metadata": {},
     "output_type": "execute_result"
    }
   ],
   "source": [
    "#TEST\n",
    "th=[0,1,2]\n",
    "ph=[0,3,0]\n",
    "\n",
    "G_n[0,th,ph]"
   ]
  },
  {
   "cell_type": "markdown",
   "metadata": {},
   "source": [
    "### Dynamic Spectra with gain pattern $G[\\nu,\\theta,\\phi]$"
   ]
  },
  {
   "cell_type": "code",
   "execution_count": 12,
   "metadata": {},
   "outputs": [],
   "source": [
    "def Temps_gain_final(fs,ts,alfa):  \n",
    "    '''Takes frequencies (fs), times in AltAz frame (ts) and returns the Temperature + Gain matrix'''\n",
    "    \n",
    "    start = time.time()\n",
    "    Temps_g=zeros((ts.obstime.size,len(fs))) \n",
    "    for i in range (ts.obstime.size): \n",
    "        \n",
    "        \n",
    "        aa_coord=g_coord.transform_to(ts[i])      #Galactic to Altaz\n",
    "        mask=argwhere(aa_coord.alt>0)             #Only coordinates above the horizon\n",
    "        T_sky=T_Hmap[mask]                        #Only those temperatures\n",
    "        \n",
    "        Th=np.round((90*u.deg-(aa_coord.alt[mask]))/(1*u.deg))    #Thetas to use in same order as Tsky\n",
    "        Th=Th.value.astype(int)                                   #Int value (dTheta=1deg)\n",
    "        \n",
    "        phi=aa_coord.az[mask]                                     ##phi's==azimuth\n",
    "        phi=phi.value.astype(int)                                 ##Int value (dphi=1deg)\n",
    "        \n",
    "        for j in range (len(fs)): \n",
    "            T_f=T_freq(alfa,408,fs[j],T_sky)                #Extrapolation\n",
    "            \n",
    "            gain=G_n[j,Th,phi]/mean(G_n[j,Th,phi])          ##Gains of Th and phi in same order as Tsky  \n",
    "            \n",
    "            T_f_g=gain*T_f                                  #New T_sky with respective gain\n",
    "            Temps_g[-i,j]=mean(T_f_g)                       #Mean temperature (bottom to top)\n",
    "        \n",
    "    end = time.time()\n",
    "    print('Tiempo(min):',(end - start)/60)    \n",
    "        \n",
    "      \n",
    "    return Temps_g"
   ]
  },
  {
   "cell_type": "code",
   "execution_count": 13,
   "metadata": {},
   "outputs": [
    {
     "name": "stderr",
     "output_type": "stream",
     "text": [
      "WARNING: failed to download http://maia.usno.navy.mil/ser7/finals2000A.all and http://toshi.nofs.navy.mil/ser7/finals2000A.all, using local IERS-B: <urlopen error [Errno 8] nodename nor servname provided, or not known. requested URL: http://maia.usno.navy.mil/ser7/finals2000A.all>;<urlopen error [Errno 8] nodename nor servname provided, or not known. requested URL: http://toshi.nofs.navy.mil/ser7/finals2000A.all> [astropy.utils.iers.iers]\n",
      "WARNING: Tried to get polar motions for times after IERS data is valid. Defaulting to polar motion from the 50-yr mean for those. This may affect precision at the 10s of arcsec level [astropy.coordinates.builtin_frames.utils]\n",
      "WARNING: (some) times are outside of range covered by IERS table. Assuming UT1-UTC=0 for coordinate transformations. [astropy.coordinates.builtin_frames.utils]\n"
     ]
    },
    {
     "name": "stdout",
     "output_type": "stream",
     "text": [
      "Tiempo(min): 13.430615782737732\n"
     ]
    }
   ],
   "source": [
    "T_G_final_25=Temps_gain_final(f,altaz30,2.5)"
   ]
  },
  {
   "cell_type": "code",
   "execution_count": 14,
   "metadata": {},
   "outputs": [],
   "source": [
    "savetxt('DS+G(theta,phi) alfa=2.5.txt', T_G_final_25)"
   ]
  },
  {
   "cell_type": "code",
   "execution_count": 15,
   "metadata": {},
   "outputs": [
    {
     "name": "stderr",
     "output_type": "stream",
     "text": [
      "WARNING: failed to download http://maia.usno.navy.mil/ser7/finals2000A.all and http://toshi.nofs.navy.mil/ser7/finals2000A.all, using local IERS-B: <urlopen error [Errno 8] nodename nor servname provided, or not known. requested URL: http://maia.usno.navy.mil/ser7/finals2000A.all>;<urlopen error [Errno 8] nodename nor servname provided, or not known. requested URL: http://toshi.nofs.navy.mil/ser7/finals2000A.all> [astropy.utils.iers.iers]\n",
      "WARNING: Tried to get polar motions for times after IERS data is valid. Defaulting to polar motion from the 50-yr mean for those. This may affect precision at the 10s of arcsec level [astropy.coordinates.builtin_frames.utils]\n",
      "WARNING: (some) times are outside of range covered by IERS table. Assuming UT1-UTC=0 for coordinate transformations. [astropy.coordinates.builtin_frames.utils]\n"
     ]
    },
    {
     "name": "stdout",
     "output_type": "stream",
     "text": [
      "Tiempo(min): 10.309698629379273\n"
     ]
    }
   ],
   "source": [
    "T_G_final=Temps_gain_final(f,altaz30,2.54)"
   ]
  },
  {
   "cell_type": "code",
   "execution_count": 16,
   "metadata": {},
   "outputs": [],
   "source": [
    "savetxt('DS+G(theta,phi)', T_G_final)"
   ]
  },
  {
   "cell_type": "code",
   "execution_count": 17,
   "metadata": {},
   "outputs": [],
   "source": [
    "fig1=pd.read_csv('figure1_plotdata.csv',names=['Freq','Weight','Tsky','Tres1','Tres2','Tmodel','T21'],skiprows=4,skipfooter=2,engine='python')\n",
    "T=loadtxt('DS f(40,110).txt')\n",
    "T_G=loadtxt('DS+G f(40,110).txt')\n",
    "T_G_final_cut=T_G_final[:,:71]\n",
    "\n",
    "horas=linspace(0,24,48)\n",
    "freqs1=arange(40,111,1)"
   ]
  },
  {
   "cell_type": "code",
   "execution_count": 18,
   "metadata": {},
   "outputs": [
    {
     "data": {
      "text/plain": [
       "([[<matplotlib.lines.Line2D at 0x128e7ae10>],\n",
       "  [<matplotlib.lines.Line2D at 0x11f034c88>]],\n",
       " <matplotlib.legend.Legend at 0x128e7a4e0>,\n",
       " Text(0.5,0,'freq (MHz)'),\n",
       " Text(0,0.5,'T (K)'))"
      ]
     },
     "execution_count": 18,
     "metadata": {},
     "output_type": "execute_result"
    },
    {
     "data": {
      "image/png": "[encoded data removed]",
      "text/plain": [
       "<Figure size 1152x648 with 9 Axes>"
      ]
     },
     "metadata": {},
     "output_type": "display_data"
    }
   ],
   "source": [
    "figure(figsize=(16,9))\n",
    "subplot2grid((3,3), (0,0),rowspan=2)\n",
    "pcolormesh(freqs1,horas, T,cmap='gnuplot2')\n",
    "colorbar(label='T(K)',orientation=\"horizontal\")\n",
    "title(\"Without gain pattern\"),xlabel('freq (MHz)'),ylabel('Hour')\n",
    "\n",
    "subplot2grid((3,3), (0,1),rowspan=2)\n",
    "pcolormesh(freqs1,horas, T_G,cmap='gnuplot2')\n",
    "colorbar(label='T(K)',orientation=\"horizontal\")\n",
    "title(\"$With\\ g( \\Theta)$\"),ylabel('Hour'),xlabel('freq (MHz)')\n",
    "\n",
    "subplot2grid((3,3), (0,2),rowspan=2)\n",
    "pcolormesh(freqs1,horas, T_G_final_cut,cmap='gnuplot2')\n",
    "colorbar(label='T(K)',orientation=\"horizontal\")\n",
    "title(\"$With\\ g( \\Theta,\\phi)\\ NORM$\"),ylabel('Hour'),xlabel('freq (MHz)')\n",
    "\n",
    "subplot2grid((3,3), (2,0))\n",
    "plot(fig1['Freq'],fig1['Tsky'],label='Tsky EDGES')\n",
    "[plot(freqs1,T[i],label=i/2) for i in ([12,18])],legend(),xlabel('freq (MHz)'),ylabel('T (K)')\n",
    "\n",
    "subplot2grid((3,3), (2,1))\n",
    "plot(fig1['Freq'],fig1['Tsky'],label='Tsky EDGES')\n",
    "[plot(freqs1,T_G[i],label=i/2) for i in ([12,18])],legend(),xlabel('freq (MHz)'),ylabel('T (K)')\n",
    "\n",
    "subplot2grid((3,3), (2,2))\n",
    "plot(fig1['Freq'],fig1['Tsky'],label='Tsky EDGES')\n",
    "[plot(freqs1,T_G_final_cut[i],label=i/2) for i in ([12,18])],legend(),xlabel('freq (MHz)'),ylabel('T (K)')"
   ]
  },
  {
   "cell_type": "code",
   "execution_count": 19,
   "metadata": {},
   "outputs": [
    {
     "data": {
      "text/plain": [
       "[<matplotlib.lines.Line2D at 0x11f5cac50>]"
      ]
     },
     "execution_count": 19,
     "metadata": {},
     "output_type": "execute_result"
    },
    {
     "data": {
      "image/png": "[encoded data removed]",
      "text/plain": [
       "<Figure size 1080x576 with 3 Axes>"
      ]
     },
     "metadata": {},
     "output_type": "display_data"
    }
   ],
   "source": [
    "figure(figsize=(15,8))\n",
    "subplot(1,2,1)\n",
    "pcolormesh(f,horas, T_G_final,cmap='gnuplot2')\n",
    "colorbar(label='T(K)',orientation=\"horizontal\")\n",
    "title(\"With gain pattern (norm all freqs)\"),ylabel('Hour'),xlabel('freq (MHz)')\n",
    "subplot(1,2,2)\n",
    "[plot(f,T_G_final[i],label=i/2) for i in ([12,18])],legend(),xlabel('freq (MHz)'),ylabel('T (K)')\n",
    "plot(fig1['Freq'],fig1['Tsky'],label='Tsky EDGES')"
   ]
  },
  {
   "cell_type": "code",
   "execution_count": null,
   "metadata": {},
   "outputs": [],
   "source": []
  },
  {
   "cell_type": "code",
   "execution_count": null,
   "metadata": {},
   "outputs": [],
   "source": []
  },
  {
   "cell_type": "markdown",
   "metadata": {},
   "source": [
    "### First try (wrong)"
   ]
  },
  {
   "cell_type": "code",
   "execution_count": null,
   "metadata": {},
   "outputs": [],
   "source": []
  },
  {
   "cell_type": "markdown",
   "metadata": {},
   "source": [
    "### Dynamic Spectra with gain pattern $g=g(\\theta,\\phi)$"
   ]
  },
  {
   "cell_type": "code",
   "execution_count": null,
   "metadata": {},
   "outputs": [],
   "source": [
    "def Temps_gain_final(fs,ts,alfa):  \n",
    "    '''Takes frequencies (fs), times in AltAz frame (ts) and returns the Temperature + Gain matrix'''\n",
    "    \n",
    "    start = time.time()\n",
    "    Temps_g=zeros((ts.obstime.size,len(fs))) \n",
    "    for i in range (ts.obstime.size): \n",
    "        \n",
    "        \n",
    "        aa_coord=g_coord.transform_to(ts[i])      #Galactic to Altaz\n",
    "        mask=argwhere(aa_coord.alt>0)             #Only coordinates above the horizon\n",
    "        T_sky=T_Hmap[mask]                        #Only those temperatures\n",
    "        \n",
    "        Th=np.round((90*u.deg-(aa_coord.alt[mask]))/(1*u.deg))    #Thetas to use in same order as Tsky\n",
    "        Th=Th.value.astype(int)                                   #Int value (dTheta=1deg)\n",
    "        \n",
    "        phi=aa_coord.az[mask]                                     ##phi's==azimuth\n",
    "        phi=phi.value.astype(int)                                 ##Int value (dphi=1deg)\n",
    "        \n",
    "        \n",
    "        T_f=T_freq(alfa,408,fs,T_sky)             #Extrapolation\n",
    "            \n",
    "        gain=G_n[fs,Th,phi]/mean(G_n[fs,Th,phi])          ##Gains of Th and phi in same order as Tsky  \n",
    "            \n",
    "        T_f_g=gain*T_f                            #New T_sky with respective gain\n",
    "        \n",
    "        Temps_g[-i,:]=mean(T_f_g)                 #Mean temperature (bottom to top)\n",
    "        \n",
    "    end = time.time()\n",
    "    print('Tiempo(min):',(end - start)/60)    \n",
    "        \n",
    "      \n",
    "    return Temps_g"
   ]
  },
  {
   "cell_type": "code",
   "execution_count": null,
   "metadata": {},
   "outputs": [],
   "source": [
    "T_G_NO=loadtxt('DS+G FINAL.txt')"
   ]
  },
  {
   "cell_type": "code",
   "execution_count": null,
   "metadata": {},
   "outputs": [],
   "source": []
  },
  {
   "cell_type": "code",
   "execution_count": null,
   "metadata": {},
   "outputs": [],
   "source": []
  },
  {
   "cell_type": "code",
   "execution_count": null,
   "metadata": {},
   "outputs": [],
   "source": []
  },
  {
   "cell_type": "code",
   "execution_count": null,
   "metadata": {},
   "outputs": [],
   "source": []
  },
  {
   "cell_type": "code",
   "execution_count": null,
   "metadata": {},
   "outputs": [],
   "source": []
  },
  {
   "cell_type": "code",
   "execution_count": null,
   "metadata": {},
   "outputs": [],
   "source": []
  },
  {
   "cell_type": "code",
   "execution_count": null,
   "metadata": {},
   "outputs": [],
   "source": []
  },
  {
   "cell_type": "code",
   "execution_count": null,
   "metadata": {},
   "outputs": [],
   "source": []
  },
  {
   "cell_type": "code",
   "execution_count": null,
   "metadata": {},
   "outputs": [],
   "source": []
  }
 ],
 "metadata": {
  "kernelspec": {
   "display_name": "Python 3",
   "language": "python",
   "name": "python3"
  },
  "language_info": {
   "codemirror_mode": {
    "name": "ipython",
    "version": 3
   },
   "file_extension": ".py",
   "mimetype": "text/x-python",
   "name": "python",
   "nbconvert_exporter": "python",
   "pygments_lexer": "ipython3",
   "version": "3.6.5"
  }
 },
 "nbformat": 4,
 "nbformat_minor": 2
}
